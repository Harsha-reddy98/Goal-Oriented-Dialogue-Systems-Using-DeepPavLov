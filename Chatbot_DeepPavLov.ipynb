{
  "nbformat": 4,
  "nbformat_minor": 0,
  "metadata": {
    "colab": {
      "name": "Copy_of_MLProject.ipynb",
      "provenance": [],
      "collapsed_sections": []
    },
    "kernelspec": {
      "name": "python3",
      "display_name": "Python 3"
    }
  },
  "cells": [
    {
      "cell_type": "markdown",
      "metadata": {
        "id": "zJgGU9XodD6o"
      },
      "source": [
        "ECE-GY 6143 Machine Learning - Spring 2020.    \n",
        "Name: Sri Sai Hasrshavardhan Reddy Vippala.       \n",
        "NetID: ssv315\n",
        "\n",
        "[![Open In Colab](https://colab.research.google.com/assets/colab-badge.svg)](https://colab.research.google.com/drive/14DcdGsfPzzFqkDV2sVy2scd-nApf_z3d?usp=sharing)\n",
        "\n",
        "***Introduction ***\n",
        "\n",
        "**Goal Oriented Dialogue Systems Using DeepPavLov**\n",
        "\n",
        "This project is based on building a goal oriented dialogue system(Conversational AI) for restaurent booking using DeepPavLov framework.The chatbot suggests restaurents based on the type of food the user wants to eat,price range and provides the details about the restaurent.DSTC-2(Dialogue state Tracking Challenge 2)dataset has been used to train the model.The chatbot is built on DeepPavLov which is an open source conversational AI library built on tensorflow and keras.Deepapvlov is used for developing chatbots and complex conversartional systems.We will try to undertand the process involved in collecting information from the user, processing and generating the response by the system.\n",
        "\n",
        "\n",
        "The project covers the following steps:\n",
        "\n",
        "0. [Data preparation](#0.-Data-Preparation)\n",
        "1. [Build Database of items](#1.-Build-Database-of-items)\n",
        "2. [Build Slot Filler](#2.-Build-Slot-Filler)\n",
        "3. [Build and Train a Bot](#3.-Build-and-Train-a-Bot)\n",
        "4. [Interact with bot](#4.-Interact-with-Bot)\n",
        "\n",
        "Pictures of the developed model deployed in telegram :\n",
        "\n",
        "![gobot_example.png](https://github.com/deepmipt/DeepPavlov/blob/master/examples/img/gobot_example.png?raw=1)\n",
        "source:(https://github.com/deepmipt/DeepPavlov/blob/master/examples/img/gobot_example.png?raw=1)"
      ]
    },
    {
      "cell_type": "markdown",
      "metadata": {
        "id": "ll6DJzRPSZLv"
      },
      "source": [
        "### Overview of the topic\n",
        "\n",
        "Conversational AI are used extensively in day-to-day life like siri,cortana,alexa,google assistant.Chatbots, which you may have come across while interacting in a food delivery app(uber eats,doordash), salon & restaurent bookings are a type of conversational AI.Conversational chatbots are becoming more common as intensive programming and highly specialized technical skills are no longer needed to create an interactive chatbot.The rise of conversational AI is based on the extensive rise in usage of messaging apps and voice assistant applications.\n",
        "\n",
        "Chatbots are built on Natural language processing .Chatbots analyse the text,process the information using several complex algorithms to determine what the user meant or what the user's intention is.Based on the intent of the user it determines an appropriate response to the user.\n",
        "\n",
        "DeepPavLov is a conversational AI framework that conatins all the necessary components to build chatbots.DeepPavLov is used for developing chatbots and complex conversatoional systems.\n",
        "\n",
        "Machine learning chatbots are characterized with AI,so we need not be precise while taking to the bot.They can understand our language not only our commands and moreover get smarter with time.These models do not have predefined responses.They create the responses from scratch.These models are smarter than traditional bots.They imitate the converstaion of real people.\n",
        "\n",
        "\n",
        "\n",
        "\n"
      ]
    },
    {
      "cell_type": "markdown",
      "metadata": {
        "id": "XPJYdzEF7SrT"
      },
      "source": [
        "### Detailed Discussion\n",
        "\n",
        "![alt text](https://drive.google.com/uc?id=1S_Al54H3M-795wu9Xjnhx84MTYosmQZC)\n",
        "(figure from http://docs.deeppavlov.ai/en/master/)\n",
        "\n",
        "A simple bot architecture has three modules: Natural Language understanding(NLU), Dialogue Manager(DM), Natural language generation(NLG).\n",
        "\n",
        "**Natural Language Understanding(NLU)** receives the user utterence or dialogue.It processes the utterence to identify the domain , intent and entities mentioned by the user.The combination of these three is known as semantic frame.It consists of NER(name-entity recognizer) which helps to build the semantic frame.\n",
        " \n",
        "Utterence : It is the input given by the user. Ex: \" Show me today's sports news\" is an example of utterence.\n",
        "\n",
        "Domain : The type of information the user is intending to know about.Ex: In the above diagram the domain of the utterence is weather_service.\n",
        "\n",
        "Intent : It refers to the itention of the user.For the Ex: \"Show me today's sports mews\" the intent of the user is to get the news related to sports.Intent usuaaly conatin a verb followed by a noun.In this case \"show news\" can be used identify the intent of the user.\n",
        "\n",
        "Entities : They provide more information about the intent of the user.Ex: \" Show me todays sports news\" the entities are \"today\" and \" sports\".These provide metadata about the intent of the user which help to deliver the intent precisely.\n",
        "\n",
        "The combination of these three is known as semantic frame which is used by the Dialogue manager to generate a response.\n",
        "\n",
        "**Dialogue Manager(DM)** is responsible for Dialogue state tracking and action policy management.It consists of RNN(Recurrent neural networks)\n",
        "\n",
        "Dialogue state tracking : It is used to estimate current state of the dialogue.\"It estimates the be-liefs of possible user’s goals at every dialogue turn.Dialog  state  tracking  is  used  to  estimate  the current belief state of a dialog given all the pre-ceding  conversation\" [text link](chrome-extension://oemmndcbldboiebfnladdacbdfmadadm/https://www.aclweb.org/anthology/D18-1299.pdf)\n",
        "\n",
        "Action policy management : It decides what actions(It may be giving a response to the user or asking for additional information) to be taken after processing the information.\n",
        "\n",
        "Ex : \n",
        "user - \" Show me some good restaurents \" \n",
        "\n",
        "In this case the \n",
        "                 \n",
        "                  domain : restaurents\n",
        "                  Intent : request_restaurents\n",
        "                  entities : ( type = \"good\")\n",
        "    \n",
        "Based on this semantic we can have an SQL query to fetch restaurents satisfying the constraint('good').However there are many restaurents satisfying the constraint and we don't want to show the user every restaurent from the DB.So, the policy manager decides what the next action to perform.In this case it require additonal information from the user.DM generates a system action/policy :\n",
        "\n",
        "                        request_location\n",
        "so the response from the chatbot will be,\n",
        "\n",
        "Chatbot - \" Can I your Location ? \"\n",
        "\n",
        "**Natural language generation (NLG)** uses generative models which are based on neural networks and rule based templates to convert the system action/policy into natural language to output to the user.\n",
        "\n",
        "This process runs iteratively till the user is provided with the information.\n",
        "\n",
        "\n",
        "### Semantic Frame Representation\n",
        "\n",
        "It requires domain ontology(properties or relations associated with the domain).\n",
        "\n",
        "speaker 1 : 'find me a cheap Indian restaurent'\n",
        "             \n",
        "              'domain' : 'restaurent'\n",
        "              'slot type' : 'price','type','location'\n",
        "\n",
        "speaker 2 : 'find me a good movie of leonardo di caprio'\n",
        "\n",
        "              'domain' : 'movie'\n",
        "              'slot type' : 'genre','director','year'\n",
        "\n",
        "The system need s to identify the ontology corresponding to the domain.\n",
        "\n",
        "Language understanding :\n",
        "\n",
        "   Domain classification -> Intent Classification -> Slot filling\n",
        "\n",
        "Given a collection of utterences u(i)  with labels c(i),D = {(u(1),c(1)),.....} where c(i) belongs to C,train a model to estimate labels for new occurances.\n",
        "So we can apply deep neural net for classification.For ex: we can fit each word.\n",
        "\n",
        "Explanation is given in between according to the code \n",
        "\n",
        "\n",
        "\n",
        "\n",
        "\n",
        "\n"
      ]
    },
    {
      "cell_type": "markdown",
      "metadata": {
        "id": "ZzmrazdVrxbN"
      },
      "source": [
        "Downloading and installing deepPavLov framework"
      ]
    },
    {
      "cell_type": "code",
      "metadata": {
        "id": "tznS6W5CYcCu",
        "colab": {
          "base_uri": "https://localhost:8080/",
          "height": 1000
        },
        "outputId": "7833fcbd-2a9a-4e85-9f78-1edd11fb2778"
      },
      "source": [
        "!pip install deeppavlov\n",
        "!python -m deeppavlov install gobot_simple_dstc2"
      ],
      "execution_count": null,
      "outputs": [
        {
          "output_type": "stream",
          "text": [
            "Requirement already satisfied: deeppavlov in /usr/local/lib/python3.6/dist-packages (0.9.1)\n",
            "Requirement already satisfied: pandas==0.25.3 in /usr/local/lib/python3.6/dist-packages (from deeppavlov) (0.25.3)\n",
            "Requirement already satisfied: Cython==0.29.14 in /usr/local/lib/python3.6/dist-packages (from deeppavlov) (0.29.14)\n",
            "Requirement already satisfied: nltk==3.4.5 in /usr/local/lib/python3.6/dist-packages (from deeppavlov) (3.4.5)\n",
            "Requirement already satisfied: numpy==1.18.0 in /usr/local/lib/python3.6/dist-packages (from deeppavlov) (1.18.0)\n",
            "Requirement already satisfied: scipy==1.4.1 in /usr/local/lib/python3.6/dist-packages (from deeppavlov) (1.4.1)\n",
            "Requirement already satisfied: tqdm==4.41.1 in /usr/local/lib/python3.6/dist-packages (from deeppavlov) (4.41.1)\n",
            "Requirement already satisfied: aio-pika==6.4.1 in /usr/local/lib/python3.6/dist-packages (from deeppavlov) (6.4.1)\n",
            "Requirement already satisfied: scikit-learn==0.21.2 in /usr/local/lib/python3.6/dist-packages (from deeppavlov) (0.21.2)\n",
            "Requirement already satisfied: fastapi==0.47.1 in /usr/local/lib/python3.6/dist-packages (from deeppavlov) (0.47.1)\n",
            "Requirement already satisfied: requests==2.22.0 in /usr/local/lib/python3.6/dist-packages (from deeppavlov) (2.22.0)\n",
            "Requirement already satisfied: uvicorn==0.11.1 in /usr/local/lib/python3.6/dist-packages (from deeppavlov) (0.11.1)\n",
            "Requirement already satisfied: fuzzywuzzy==0.17.0 in /usr/local/lib/python3.6/dist-packages (from deeppavlov) (0.17.0)\n",
            "Requirement already satisfied: pymorphy2==0.8 in /usr/local/lib/python3.6/dist-packages (from deeppavlov) (0.8)\n",
            "Requirement already satisfied: overrides==2.7.0 in /usr/local/lib/python3.6/dist-packages (from deeppavlov) (2.7.0)\n",
            "Requirement already satisfied: pyopenssl==19.1.0 in /usr/local/lib/python3.6/dist-packages (from deeppavlov) (19.1.0)\n",
            "Requirement already satisfied: h5py==2.10.0 in /usr/local/lib/python3.6/dist-packages (from deeppavlov) (2.10.0)\n",
            "Requirement already satisfied: pydantic==1.3 in /usr/local/lib/python3.6/dist-packages (from deeppavlov) (1.3)\n",
            "Requirement already satisfied: ruamel.yaml==0.15.100 in /usr/local/lib/python3.6/dist-packages (from deeppavlov) (0.15.100)\n",
            "Requirement already satisfied: rusenttokenize==0.0.5 in /usr/local/lib/python3.6/dist-packages (from deeppavlov) (0.0.5)\n",
            "Requirement already satisfied: pytelegrambotapi==3.6.7 in /usr/local/lib/python3.6/dist-packages (from deeppavlov) (3.6.7)\n",
            "Requirement already satisfied: pymorphy2-dicts-ru in /usr/local/lib/python3.6/dist-packages (from deeppavlov) (2.4.404381.4453942)\n",
            "Requirement already satisfied: pytz>=2017.2 in /usr/local/lib/python3.6/dist-packages (from pandas==0.25.3->deeppavlov) (2018.9)\n",
            "Requirement already satisfied: python-dateutil>=2.6.1 in /usr/local/lib/python3.6/dist-packages (from pandas==0.25.3->deeppavlov) (2.8.1)\n",
            "Requirement already satisfied: six in /usr/local/lib/python3.6/dist-packages (from nltk==3.4.5->deeppavlov) (1.12.0)\n",
            "Requirement already satisfied: aiormq<4,>=3.2.0 in /usr/local/lib/python3.6/dist-packages (from aio-pika==6.4.1->deeppavlov) (3.2.2)\n",
            "Requirement already satisfied: yarl in /usr/local/lib/python3.6/dist-packages (from aio-pika==6.4.1->deeppavlov) (1.4.2)\n",
            "Requirement already satisfied: joblib>=0.11 in /usr/local/lib/python3.6/dist-packages (from scikit-learn==0.21.2->deeppavlov) (0.14.1)\n",
            "Requirement already satisfied: starlette<=0.12.9,>=0.12.9 in /usr/local/lib/python3.6/dist-packages (from fastapi==0.47.1->deeppavlov) (0.12.9)\n",
            "Requirement already satisfied: idna<2.9,>=2.5 in /usr/local/lib/python3.6/dist-packages (from requests==2.22.0->deeppavlov) (2.8)\n",
            "Requirement already satisfied: chardet<3.1.0,>=3.0.2 in /usr/local/lib/python3.6/dist-packages (from requests==2.22.0->deeppavlov) (3.0.4)\n",
            "Requirement already satisfied: urllib3!=1.25.0,!=1.25.1,<1.26,>=1.21.1 in /usr/local/lib/python3.6/dist-packages (from requests==2.22.0->deeppavlov) (1.24.3)\n",
            "Requirement already satisfied: certifi>=2017.4.17 in /usr/local/lib/python3.6/dist-packages (from requests==2.22.0->deeppavlov) (2020.4.5.1)\n",
            "Requirement already satisfied: h11<0.10,>=0.8 in /usr/local/lib/python3.6/dist-packages (from uvicorn==0.11.1->deeppavlov) (0.9.0)\n",
            "Requirement already satisfied: uvloop>=0.14.0; sys_platform != \"win32\" and sys_platform != \"cygwin\" and platform_python_implementation != \"pypy\" in /usr/local/lib/python3.6/dist-packages (from uvicorn==0.11.1->deeppavlov) (0.14.0)\n",
            "Requirement already satisfied: httptools==0.0.13; sys_platform != \"win32\" and sys_platform != \"cygwin\" and platform_python_implementation != \"pypy\" in /usr/local/lib/python3.6/dist-packages (from uvicorn==0.11.1->deeppavlov) (0.0.13)\n",
            "Requirement already satisfied: click==7.* in /usr/local/lib/python3.6/dist-packages (from uvicorn==0.11.1->deeppavlov) (7.1.2)\n",
            "Requirement already satisfied: websockets==8.* in /usr/local/lib/python3.6/dist-packages (from uvicorn==0.11.1->deeppavlov) (8.1)\n",
            "Requirement already satisfied: docopt>=0.6 in /usr/local/lib/python3.6/dist-packages (from pymorphy2==0.8->deeppavlov) (0.6.2)\n",
            "Requirement already satisfied: pymorphy2-dicts<3.0,>=2.4 in /usr/local/lib/python3.6/dist-packages (from pymorphy2==0.8->deeppavlov) (2.4.393442.3710985)\n",
            "Requirement already satisfied: dawg-python>=0.7 in /usr/local/lib/python3.6/dist-packages (from pymorphy2==0.8->deeppavlov) (0.7.2)\n",
            "Requirement already satisfied: cryptography>=2.8 in /usr/local/lib/python3.6/dist-packages (from pyopenssl==19.1.0->deeppavlov) (2.9.2)\n",
            "Requirement already satisfied: dataclasses>=0.6; python_version < \"3.7\" in /usr/local/lib/python3.6/dist-packages (from pydantic==1.3->deeppavlov) (0.7)\n",
            "Requirement already satisfied: pamqp==2.3.0 in /usr/local/lib/python3.6/dist-packages (from aiormq<4,>=3.2.0->aio-pika==6.4.1->deeppavlov) (2.3.0)\n",
            "Requirement already satisfied: multidict>=4.0 in /usr/local/lib/python3.6/dist-packages (from yarl->aio-pika==6.4.1->deeppavlov) (4.7.6)\n",
            "Requirement already satisfied: cffi!=1.11.3,>=1.8 in /usr/local/lib/python3.6/dist-packages (from cryptography>=2.8->pyopenssl==19.1.0->deeppavlov) (1.14.0)\n",
            "Requirement already satisfied: pycparser in /usr/local/lib/python3.6/dist-packages (from cffi!=1.11.3,>=1.8->cryptography>=2.8->pyopenssl==19.1.0->deeppavlov) (2.20)\n",
            "2020-05-17 04:19:51.189 INFO in 'deeppavlov.core.common.file'['file'] at line 32: Interpreting 'gobot_simple_dstc2' as '/usr/local/lib/python3.6/dist-packages/deeppavlov/configs/go_bot/gobot_simple_dstc2.json'\n",
            "Requirement already satisfied: tensorflow==1.15.2 in /usr/local/lib/python3.6/dist-packages (1.15.2)\n",
            "Requirement already satisfied: opt-einsum>=2.3.2 in /usr/local/lib/python3.6/dist-packages (from tensorflow==1.15.2) (3.2.1)\n",
            "Requirement already satisfied: protobuf>=3.6.1 in /usr/local/lib/python3.6/dist-packages (from tensorflow==1.15.2) (3.10.0)\n",
            "Requirement already satisfied: termcolor>=1.1.0 in /usr/local/lib/python3.6/dist-packages (from tensorflow==1.15.2) (1.1.0)\n",
            "Requirement already satisfied: tensorboard<1.16.0,>=1.15.0 in /usr/local/lib/python3.6/dist-packages (from tensorflow==1.15.2) (1.15.0)\n",
            "Requirement already satisfied: gast==0.2.2 in /usr/local/lib/python3.6/dist-packages (from tensorflow==1.15.2) (0.2.2)\n",
            "Requirement already satisfied: astor>=0.6.0 in /usr/local/lib/python3.6/dist-packages (from tensorflow==1.15.2) (0.8.1)\n",
            "Requirement already satisfied: numpy<2.0,>=1.16.0 in /usr/local/lib/python3.6/dist-packages (from tensorflow==1.15.2) (1.18.0)\n",
            "Requirement already satisfied: six>=1.10.0 in /usr/local/lib/python3.6/dist-packages (from tensorflow==1.15.2) (1.12.0)\n",
            "Requirement already satisfied: tensorflow-estimator==1.15.1 in /usr/local/lib/python3.6/dist-packages (from tensorflow==1.15.2) (1.15.1)\n",
            "Requirement already satisfied: google-pasta>=0.1.6 in /usr/local/lib/python3.6/dist-packages (from tensorflow==1.15.2) (0.2.0)\n",
            "Requirement already satisfied: keras-applications>=1.0.8 in /usr/local/lib/python3.6/dist-packages (from tensorflow==1.15.2) (1.0.8)\n",
            "Requirement already satisfied: grpcio>=1.8.6 in /usr/local/lib/python3.6/dist-packages (from tensorflow==1.15.2) (1.28.1)\n",
            "Requirement already satisfied: wheel>=0.26; python_version >= \"3\" in /usr/local/lib/python3.6/dist-packages (from tensorflow==1.15.2) (0.34.2)\n",
            "Requirement already satisfied: wrapt>=1.11.1 in /usr/local/lib/python3.6/dist-packages (from tensorflow==1.15.2) (1.12.1)\n",
            "Requirement already satisfied: absl-py>=0.7.0 in /usr/local/lib/python3.6/dist-packages (from tensorflow==1.15.2) (0.9.0)\n",
            "Requirement already satisfied: keras-preprocessing>=1.0.5 in /usr/local/lib/python3.6/dist-packages (from tensorflow==1.15.2) (1.1.0)\n",
            "Requirement already satisfied: setuptools in /usr/local/lib/python3.6/dist-packages (from protobuf>=3.6.1->tensorflow==1.15.2) (46.3.0)\n",
            "Requirement already satisfied: werkzeug>=0.11.15 in /usr/local/lib/python3.6/dist-packages (from tensorboard<1.16.0,>=1.15.0->tensorflow==1.15.2) (1.0.1)\n",
            "Requirement already satisfied: markdown>=2.6.8 in /usr/local/lib/python3.6/dist-packages (from tensorboard<1.16.0,>=1.15.0->tensorflow==1.15.2) (3.2.1)\n",
            "Requirement already satisfied: h5py in /usr/local/lib/python3.6/dist-packages (from keras-applications>=1.0.8->tensorflow==1.15.2) (2.10.0)\n",
            "Requirement already satisfied: gensim==3.8.1 in /usr/local/lib/python3.6/dist-packages (3.8.1)\n",
            "Requirement already satisfied: smart-open>=1.8.1 in /usr/local/lib/python3.6/dist-packages (from gensim==3.8.1) (2.0.0)\n",
            "Requirement already satisfied: scipy>=0.18.1 in /usr/local/lib/python3.6/dist-packages (from gensim==3.8.1) (1.4.1)\n",
            "Requirement already satisfied: numpy>=1.11.3 in /usr/local/lib/python3.6/dist-packages (from gensim==3.8.1) (1.18.0)\n",
            "Requirement already satisfied: six>=1.5.0 in /usr/local/lib/python3.6/dist-packages (from gensim==3.8.1) (1.12.0)\n",
            "Requirement already satisfied: boto3 in /usr/local/lib/python3.6/dist-packages (from smart-open>=1.8.1->gensim==3.8.1) (1.13.4)\n",
            "Requirement already satisfied: requests in /usr/local/lib/python3.6/dist-packages (from smart-open>=1.8.1->gensim==3.8.1) (2.22.0)\n",
            "Requirement already satisfied: boto in /usr/local/lib/python3.6/dist-packages (from smart-open>=1.8.1->gensim==3.8.1) (2.49.0)\n",
            "Requirement already satisfied: botocore<1.17.0,>=1.16.4 in /usr/local/lib/python3.6/dist-packages (from boto3->smart-open>=1.8.1->gensim==3.8.1) (1.16.4)\n",
            "Requirement already satisfied: s3transfer<0.4.0,>=0.3.0 in /usr/local/lib/python3.6/dist-packages (from boto3->smart-open>=1.8.1->gensim==3.8.1) (0.3.3)\n",
            "Requirement already satisfied: jmespath<1.0.0,>=0.7.1 in /usr/local/lib/python3.6/dist-packages (from boto3->smart-open>=1.8.1->gensim==3.8.1) (0.9.5)\n",
            "Requirement already satisfied: urllib3!=1.25.0,!=1.25.1,<1.26,>=1.21.1 in /usr/local/lib/python3.6/dist-packages (from requests->smart-open>=1.8.1->gensim==3.8.1) (1.24.3)\n",
            "Requirement already satisfied: idna<2.9,>=2.5 in /usr/local/lib/python3.6/dist-packages (from requests->smart-open>=1.8.1->gensim==3.8.1) (2.8)\n",
            "Requirement already satisfied: certifi>=2017.4.17 in /usr/local/lib/python3.6/dist-packages (from requests->smart-open>=1.8.1->gensim==3.8.1) (2020.4.5.1)\n",
            "Requirement already satisfied: chardet<3.1.0,>=3.0.2 in /usr/local/lib/python3.6/dist-packages (from requests->smart-open>=1.8.1->gensim==3.8.1) (3.0.4)\n",
            "Requirement already satisfied: docutils<0.16,>=0.10 in /usr/local/lib/python3.6/dist-packages (from botocore<1.17.0,>=1.16.4->boto3->smart-open>=1.8.1->gensim==3.8.1) (0.15.2)\n",
            "Requirement already satisfied: python-dateutil<3.0.0,>=2.1 in /usr/local/lib/python3.6/dist-packages (from botocore<1.17.0,>=1.16.4->boto3->smart-open>=1.8.1->gensim==3.8.1) (2.8.1)\n",
            "Requirement already satisfied: spacy==2.2.3 in /usr/local/lib/python3.6/dist-packages (2.2.3)\n",
            "Requirement already satisfied: numpy>=1.15.0 in /usr/local/lib/python3.6/dist-packages (from spacy==2.2.3) (1.18.0)\n",
            "Requirement already satisfied: blis<0.5.0,>=0.4.0 in /usr/local/lib/python3.6/dist-packages (from spacy==2.2.3) (0.4.1)\n",
            "Requirement already satisfied: wasabi<1.1.0,>=0.4.0 in /usr/local/lib/python3.6/dist-packages (from spacy==2.2.3) (0.6.0)\n",
            "Requirement already satisfied: murmurhash<1.1.0,>=0.28.0 in /usr/local/lib/python3.6/dist-packages (from spacy==2.2.3) (1.0.2)\n",
            "Requirement already satisfied: requests<3.0.0,>=2.13.0 in /usr/local/lib/python3.6/dist-packages (from spacy==2.2.3) (2.22.0)\n",
            "Requirement already satisfied: plac<1.2.0,>=0.9.6 in /usr/local/lib/python3.6/dist-packages (from spacy==2.2.3) (1.1.3)\n",
            "Requirement already satisfied: preshed<3.1.0,>=3.0.2 in /usr/local/lib/python3.6/dist-packages (from spacy==2.2.3) (3.0.2)\n",
            "Requirement already satisfied: setuptools in /usr/local/lib/python3.6/dist-packages (from spacy==2.2.3) (46.3.0)\n",
            "Requirement already satisfied: thinc<7.4.0,>=7.3.0 in /usr/local/lib/python3.6/dist-packages (from spacy==2.2.3) (7.3.1)\n",
            "Requirement already satisfied: srsly<1.1.0,>=0.1.0 in /usr/local/lib/python3.6/dist-packages (from spacy==2.2.3) (1.0.2)\n",
            "Requirement already satisfied: catalogue<1.1.0,>=0.0.7 in /usr/local/lib/python3.6/dist-packages (from spacy==2.2.3) (1.0.0)\n",
            "Requirement already satisfied: cymem<2.1.0,>=2.0.2 in /usr/local/lib/python3.6/dist-packages (from spacy==2.2.3) (2.0.3)\n",
            "Requirement already satisfied: idna<2.9,>=2.5 in /usr/local/lib/python3.6/dist-packages (from requests<3.0.0,>=2.13.0->spacy==2.2.3) (2.8)\n",
            "Requirement already satisfied: certifi>=2017.4.17 in /usr/local/lib/python3.6/dist-packages (from requests<3.0.0,>=2.13.0->spacy==2.2.3) (2020.4.5.1)\n",
            "Requirement already satisfied: urllib3!=1.25.0,!=1.25.1,<1.26,>=1.21.1 in /usr/local/lib/python3.6/dist-packages (from requests<3.0.0,>=2.13.0->spacy==2.2.3) (1.24.3)\n",
            "Requirement already satisfied: chardet<3.1.0,>=3.0.2 in /usr/local/lib/python3.6/dist-packages (from requests<3.0.0,>=2.13.0->spacy==2.2.3) (3.0.4)\n",
            "Requirement already satisfied: tqdm<5.0.0,>=4.10.0 in /usr/local/lib/python3.6/dist-packages (from thinc<7.4.0,>=7.3.0->spacy==2.2.3) (4.41.1)\n",
            "Requirement already satisfied: importlib-metadata>=0.20; python_version < \"3.8\" in /usr/local/lib/python3.6/dist-packages (from catalogue<1.1.0,>=0.0.7->spacy==2.2.3) (1.6.0)\n",
            "Requirement already satisfied: zipp>=0.5 in /usr/local/lib/python3.6/dist-packages (from importlib-metadata>=0.20; python_version < \"3.8\"->catalogue<1.1.0,>=0.0.7->spacy==2.2.3) (3.1.0)\n",
            "Requirement already satisfied: en_core_web_sm==2.2.5 from https://github.com/explosion/spacy-models/releases/download/en_core_web_sm-2.2.5/en_core_web_sm-2.2.5.tar.gz#egg=en_core_web_sm==2.2.5 in /usr/local/lib/python3.6/dist-packages (2.2.5)\n",
            "Requirement already satisfied: spacy>=2.2.2 in /usr/local/lib/python3.6/dist-packages (from en_core_web_sm==2.2.5) (2.2.3)\n",
            "Requirement already satisfied: numpy>=1.15.0 in /usr/local/lib/python3.6/dist-packages (from spacy>=2.2.2->en_core_web_sm==2.2.5) (1.18.0)\n",
            "Requirement already satisfied: murmurhash<1.1.0,>=0.28.0 in /usr/local/lib/python3.6/dist-packages (from spacy>=2.2.2->en_core_web_sm==2.2.5) (1.0.2)\n",
            "Requirement already satisfied: preshed<3.1.0,>=3.0.2 in /usr/local/lib/python3.6/dist-packages (from spacy>=2.2.2->en_core_web_sm==2.2.5) (3.0.2)\n",
            "Requirement already satisfied: plac<1.2.0,>=0.9.6 in /usr/local/lib/python3.6/dist-packages (from spacy>=2.2.2->en_core_web_sm==2.2.5) (1.1.3)\n",
            "Requirement already satisfied: requests<3.0.0,>=2.13.0 in /usr/local/lib/python3.6/dist-packages (from spacy>=2.2.2->en_core_web_sm==2.2.5) (2.22.0)\n",
            "Requirement already satisfied: cymem<2.1.0,>=2.0.2 in /usr/local/lib/python3.6/dist-packages (from spacy>=2.2.2->en_core_web_sm==2.2.5) (2.0.3)\n",
            "Requirement already satisfied: setuptools in /usr/local/lib/python3.6/dist-packages (from spacy>=2.2.2->en_core_web_sm==2.2.5) (46.3.0)\n",
            "Requirement already satisfied: thinc<7.4.0,>=7.3.0 in /usr/local/lib/python3.6/dist-packages (from spacy>=2.2.2->en_core_web_sm==2.2.5) (7.3.1)\n",
            "Requirement already satisfied: srsly<1.1.0,>=0.1.0 in /usr/local/lib/python3.6/dist-packages (from spacy>=2.2.2->en_core_web_sm==2.2.5) (1.0.2)\n",
            "Requirement already satisfied: blis<0.5.0,>=0.4.0 in /usr/local/lib/python3.6/dist-packages (from spacy>=2.2.2->en_core_web_sm==2.2.5) (0.4.1)\n",
            "Requirement already satisfied: wasabi<1.1.0,>=0.4.0 in /usr/local/lib/python3.6/dist-packages (from spacy>=2.2.2->en_core_web_sm==2.2.5) (0.6.0)\n",
            "Requirement already satisfied: catalogue<1.1.0,>=0.0.7 in /usr/local/lib/python3.6/dist-packages (from spacy>=2.2.2->en_core_web_sm==2.2.5) (1.0.0)\n",
            "Requirement already satisfied: urllib3!=1.25.0,!=1.25.1,<1.26,>=1.21.1 in /usr/local/lib/python3.6/dist-packages (from requests<3.0.0,>=2.13.0->spacy>=2.2.2->en_core_web_sm==2.2.5) (1.24.3)\n",
            "Requirement already satisfied: certifi>=2017.4.17 in /usr/local/lib/python3.6/dist-packages (from requests<3.0.0,>=2.13.0->spacy>=2.2.2->en_core_web_sm==2.2.5) (2020.4.5.1)\n",
            "Requirement already satisfied: idna<2.9,>=2.5 in /usr/local/lib/python3.6/dist-packages (from requests<3.0.0,>=2.13.0->spacy>=2.2.2->en_core_web_sm==2.2.5) (2.8)\n",
            "Requirement already satisfied: chardet<3.1.0,>=3.0.2 in /usr/local/lib/python3.6/dist-packages (from requests<3.0.0,>=2.13.0->spacy>=2.2.2->en_core_web_sm==2.2.5) (3.0.4)\n",
            "Requirement already satisfied: tqdm<5.0.0,>=4.10.0 in /usr/local/lib/python3.6/dist-packages (from thinc<7.4.0,>=7.3.0->spacy>=2.2.2->en_core_web_sm==2.2.5) (4.41.1)\n",
            "Requirement already satisfied: importlib-metadata>=0.20; python_version < \"3.8\" in /usr/local/lib/python3.6/dist-packages (from catalogue<1.1.0,>=0.0.7->spacy>=2.2.2->en_core_web_sm==2.2.5) (1.6.0)\n",
            "Requirement already satisfied: zipp>=0.5 in /usr/local/lib/python3.6/dist-packages (from importlib-metadata>=0.20; python_version < \"3.8\"->catalogue<1.1.0,>=0.0.7->spacy>=2.2.2->en_core_web_sm==2.2.5) (3.1.0)\n"
          ],
          "name": "stdout"
        }
      ]
    },
    {
      "cell_type": "markdown",
      "metadata": {
        "id": "NV3FAApR5znc"
      },
      "source": [
        "### 0. DATA PREPARATION\n",
        "\n",
        "DTSC-2 provides actual human conversations in the form of json files.json(javascript object notation) files contain information in a serilaized format and and are used for transmitting structured infromation.\n",
        "The dialogues are labelled with slots and corresponding dialogue actions which will be used to train dialogue policy network.\n",
        "\n",
        "The data conatains retaurent reservation  dialogues from DTSC-2.The dataset reader is used for downloading dataset."
      ]
    },
    {
      "cell_type": "code",
      "metadata": {
        "id": "JUqsAmI5YdDa",
        "colab": {
          "base_uri": "https://localhost:8080/",
          "height": 119
        },
        "outputId": "d629b8dd-2bb3-4910-a7e1-d27e8164b8fa"
      },
      "source": [
        "\n",
        "from deeppavlov.dataset_readers.dstc2_reader import SimpleDSTC2DatasetReader\n",
        "\n",
        "data = SimpleDSTC2DatasetReader().read('my_data')"
      ],
      "execution_count": null,
      "outputs": [
        {
          "output_type": "stream",
          "text": [
            "2020-05-17 04:20:02.216 INFO in 'deeppavlov.dataset_readers.dstc2_reader'['dstc2_reader'] at line 290: [loading dialogs from my_data/simple-dstc2-trn.json]\n",
            "2020-05-17 04:20:02.231 INFO in 'deeppavlov.dataset_readers.dstc2_reader'['dstc2_reader'] at line 290: [loading dialogs from my_data/simple-dstc2-val.json]\n",
            "2020-05-17 04:20:02.316 INFO in 'deeppavlov.dataset_readers.dstc2_reader'['dstc2_reader'] at line 290: [loading dialogs from my_data/simple-dstc2-tst.json]\n",
            "2020-05-17 04:20:02.913 INFO in 'deeppavlov.dataset_readers.dstc2_reader'['dstc2_reader'] at line 282: There are 479 samples in train split.\n",
            "2020-05-17 04:20:02.915 INFO in 'deeppavlov.dataset_readers.dstc2_reader'['dstc2_reader'] at line 283: There are 6231 samples in valid split.\n",
            "2020-05-17 04:20:02.915 INFO in 'deeppavlov.dataset_readers.dstc2_reader'['dstc2_reader'] at line 284: There are 6345 samples in test split.\n"
          ],
          "name": "stderr"
        }
      ]
    },
    {
      "cell_type": "markdown",
      "metadata": {
        "id": "u5c0rqlCJHg4"
      },
      "source": [
        "The dataset contains testing,training and validation data for training and testing the model.It also contains templates for forming responses."
      ]
    },
    {
      "cell_type": "code",
      "metadata": {
        "id": "xFaM2UtQYf2y",
        "colab": {
          "base_uri": "https://localhost:8080/",
          "height": 51
        },
        "outputId": "2d51a146-79a4-48c6-dda1-adba1848bf7a"
      },
      "source": [
        "!ls my_data"
      ],
      "execution_count": null,
      "outputs": [
        {
          "output_type": "stream",
          "text": [
            "simple-dstc2-templates.txt  simple-dstc2-trn.json  simple-dstc2-val.json\n",
            "simple-dstc2-trn.full.json  simple-dstc2-tst.json\n"
          ],
          "name": "stdout"
        }
      ]
    },
    {
      "cell_type": "markdown",
      "metadata": {
        "id": "OeHdTOAqKVDs"
      },
      "source": [
        "The following command can be used to show the templates used by the chatbot to form responses. The word in the templates starting with # are replaced with value from the corresponding database and output as responses from the system."
      ]
    },
    {
      "cell_type": "code",
      "metadata": {
        "id": "12Db-WubJjs0",
        "colab": {
          "base_uri": "https://localhost:8080/",
          "height": 819
        },
        "outputId": "08f0e7e8-d593-407a-89d9-cf59bf341a41"
      },
      "source": [
        "!head -n 101 my_data/simple-dstc2-templates.txt"
      ],
      "execution_count": null,
      "outputs": [
        {
          "output_type": "stream",
          "text": [
            "api_call\tapi_call area=\"#area\" food=\"#food\" pricerange=\"#pricerange\"\n",
            "bye\tYou are welcome!\n",
            "canthear\tSorry, I can't hear you.\n",
            "canthelp_area\tI'm sorry but there is no #area american restaurant in the #area of town.\n",
            "canthelp_area_food\tSorry there is no #food restaurant in the #area of town.\n",
            "canthelp_area_food_pricerange\tSorry there is no #pricerange restaurant in the #area of town serving #food food.\n",
            "canthelp_area_pricerange\tSorry there is no #pricerange restaurant in the #area of town serving #area american food.\n",
            "canthelp_food\tI am sorry but there is no #food restaurant that matches your request.\n",
            "canthelp_food_pricerange\tSorry there is no #food restaurant in the #pricerange price range.\n",
            "confirm-domain\tYou are looking for a restaurant is that right?\n",
            "expl-conf_area\tDid you say you are looking for a restaurant in the #area of town?\n",
            "expl-conf_food\tYou are looking for a #food restaurant right?\n",
            "expl-conf_pricerange\tLet me confirm, You are looking for a restaurant in the #pricerange price range right?\n",
            "impl-conf_area+impl-conf_pricerange+request_food\tThere are  restaurants in the #pricerange price range and the #area of town. What type of food would you like?\n",
            "impl-conf_food+impl-conf_pricerange+request_area\tThere are  restaurants serving #food in the #pricerange price range. What area would you like?\n",
            "impl-conf_food+request_area\tThere are  restaurants serving #food food. What area do you want?\n",
            "inform_addr+inform_food+offer_name\t#name is on #addr and serves tasty #food food.\n",
            "inform_addr+inform_phone+inform_pricerange+offer_name\t#name is on #addr. Its phone number is #phone, and it is in the #pricerange pricerange.\n",
            "inform_addr+inform_phone+offer_name\tThe phone number of #name is #phone and it is on #addr.\n",
            "inform_addr+inform_postcode+offer_name\t#name is on #addr, #postcode.\n",
            "inform_addr+inform_pricerange+offer_name\t#name is on #addr, and it is in the #pricerange price range.\n",
            "inform_addr+offer_name\tSure, #name is on #addr.\n",
            "inform_area+inform_food+inform_pricerange+offer_name\t#name is a great restaurant serving #pricerange #food food in the #area of town.\n",
            "inform_area+inform_food+offer_name\t#name is a nice place in the #area of town serving tasty #food food.\n",
            "inform_area+inform_phone+offer_name\tThe phone number of #name is #phone and it is in the #area part of town.\n",
            "inform_area+inform_postcode+offer_name\t#name is in the #area, at #postcode.\n",
            "inform_area+inform_pricerange+offer_name\t#name is a nice place in the #area of town and the prices are #pricerange.\n",
            "inform_area+offer_name\t#name is in the #area part of town.\n",
            "inform_food+inform_pricerange+offer_name\t#name serves #food food in the #pricerange price range.\n",
            "inform_food+offer_name\t#name serves #food food.\n",
            "inform_phone+inform_postcode+offer_name\tThe phone number of #name is #phone and its postcode is #postcode.\n",
            "inform_phone+inform_pricerange+offer_name\tThe phone number of #name is #phone and it is in the #pricerange price range.\n",
            "inform_phone+offer_name\tThe phone number of #name is #phone.\n",
            "inform_postcode+inform_pricerange+offer_name\t#name is in the #pricerange price range, and their post code is #postcode.\n",
            "inform_postcode+offer_name\tThe post code of #name is #postcode.\n",
            "inform_pricerange+offer_name\tThe price range at #name is #pricerange.\n",
            "offer_name\t#name is a great restaurant.\n",
            "repeat\tSorry I am a bit confused; please tell me again what you are looking for.\n",
            "reqmore\tCan I help you with anything else?\n",
            "request_area\tWhat part of town do you have in mind?\n",
            "request_food\tWhat kind of food would you like?\n",
            "request_pricerange\tWould you like something in the cheap, moderate, or expensive price range?\n",
            "select_area\tSorry would you like something in the #area or in the #area.\n",
            "select_food\tSorry would you like #food or #food food?\n",
            "select_pricerange\tSorry would you like something in the #pricerange price range or in the #pricerange price range.\n",
            "welcomemsg\tHello, welcome to the Cambridge restaurant system. You can ask for restaurants by area, price range or food type. How may I help you?\n"
          ],
          "name": "stdout"
        }
      ]
    },
    {
      "cell_type": "markdown",
      "metadata": {
        "id": "J1C90_LNLATm"
      },
      "source": [
        "Similarly we can the data in the training dataset.Data is stored in json format.The data is in the form of slot and corresponding values.\n",
        "\n",
        "                    \"slots\": 'area','south'\n",
        "                    \"speaker\" : 2"
      ]
    },
    {
      "cell_type": "code",
      "metadata": {
        "id": "HH3E--XqYkZe",
        "colab": {
          "base_uri": "https://localhost:8080/",
          "height": 1000
        },
        "outputId": "ad1f591b-3f7f-4b3b-f347-960b2d5f4ccf"
      },
      "source": [
        "!head -n 101 my_data/simple-dstc2-trn.json"
      ],
      "execution_count": null,
      "outputs": [
        {
          "output_type": "stream",
          "text": [
            "[\n",
            "  [\n",
            "    {\n",
            "      \"speaker\": 2,\n",
            "      \"text\": \"Hello, welcome to the Cambridge restaurant system. You can ask for restaurants by area, price range or food type. How may I help you?\",\n",
            "      \"slots\": [],\n",
            "      \"act\": \"welcomemsg\"\n",
            "    },\n",
            "    {\n",
            "      \"speaker\": 1,\n",
            "      \"text\": \"cheap restaurant\",\n",
            "      \"slots\": [\n",
            "        [\n",
            "          \"pricerange\",\n",
            "          \"cheap\"\n",
            "        ]\n",
            "      ]\n",
            "    },\n",
            "    {\n",
            "      \"speaker\": 2,\n",
            "      \"text\": \"What kind of food would you like?\",\n",
            "      \"slots\": [],\n",
            "      \"act\": \"request_food\"\n",
            "    },\n",
            "    {\n",
            "      \"speaker\": 1,\n",
            "      \"text\": \"any\",\n",
            "      \"slots\": [\n",
            "        [\n",
            "          \"this\",\n",
            "          \"dontcare\"\n",
            "        ]\n",
            "      ]\n",
            "    },\n",
            "    {\n",
            "      \"speaker\": 2,\n",
            "      \"text\": \"What part of town do you have in mind?\",\n",
            "      \"slots\": [],\n",
            "      \"act\": \"request_area\"\n",
            "    },\n",
            "    {\n",
            "      \"speaker\": 1,\n",
            "      \"text\": \"south\",\n",
            "      \"slots\": [\n",
            "        [\n",
            "          \"area\",\n",
            "          \"south\"\n",
            "        ]\n",
            "      ]\n",
            "    },\n",
            "    {\n",
            "      \"speaker\": 2,\n",
            "      \"text\": \"api_call area=\\\"south\\\" food=\\\"dontcare\\\" pricerange=\\\"cheap\\\"\",\n",
            "      \"db_result\": {\n",
            "        \"food\": \"chinese\",\n",
            "        \"pricerange\": \"cheap\",\n",
            "        \"area\": \"south\",\n",
            "        \"addr\": \"cambridge leisure park clifton way cherry hinton\",\n",
            "        \"phone\": \"01223 244277\",\n",
            "        \"postcode\": \"c.b 1, 7 d.y\",\n",
            "        \"name\": \"the lucky star\"\n",
            "      },\n",
            "      \"slots\": [\n",
            "        [\n",
            "          \"area\",\n",
            "          \"south\"\n",
            "        ],\n",
            "        [\n",
            "          \"pricerange\",\n",
            "          \"cheap\"\n",
            "        ],\n",
            "        [\n",
            "          \"food\",\n",
            "          \"dontcare\"\n",
            "        ]\n",
            "      ],\n",
            "      \"act\": \"api_call\"\n",
            "    },\n",
            "    {\n",
            "      \"speaker\": 2,\n",
            "      \"text\": \"The lucky star is a nice place in the south of town serving tasty chinese food.\",\n",
            "      \"slots\": [\n",
            "        [\n",
            "          \"area\",\n",
            "          \"south\"\n",
            "        ],\n",
            "        [\n",
            "          \"pricerange\",\n",
            "          \"cheap\"\n",
            "        ],\n",
            "        [\n",
            "          \"name\",\n",
            "          \"the lucky star\"\n",
            "        ],\n",
            "        [\n",
            "          \"food\",\n",
            "          \"chinese\"\n",
            "        ]\n",
            "      ],\n",
            "      \"act\": \"inform_area+inform_food+offer_name\"\n",
            "    },\n"
          ],
          "name": "stdout"
        }
      ]
    },
    {
      "cell_type": "markdown",
      "metadata": {
        "id": "MdVd5uQNMmsE"
      },
      "source": [
        "When we download data, we need to make groups of dialogues referred to as batches.Batches during training phase will be the input to the neural network which will perform weight updations using gradient descent.\n",
        "\n",
        "The way batches are formed are controlled by dataset iterator.\n",
        "\n",
        "    \"iterator\" is our iterator(in this case) which iterates over data batches."
      ]
    },
    {
      "cell_type": "code",
      "metadata": {
        "id": "Gh5yX_pUYl2z"
      },
      "source": [
        "from deeppavlov.dataset_iterators.dialog_iterator import DialogDatasetIterator\n",
        "\n",
        "iterator = DialogDatasetIterator(data)"
      ],
      "execution_count": null,
      "outputs": []
    },
    {
      "cell_type": "markdown",
      "metadata": {
        "id": "-iGK5uqaMgZD"
      },
      "source": [
        "In this model batches are series of two dialogues.\n",
        "\n",
        "A batch consists of dialogues.A dialogue refers to one utterence from the speaker and one utterence from the chatbot/system.\n",
        "\n",
        "### Whats in a batch?\n",
        "\n",
        "the following figure shows a representaion of semantic frames of both speaker and system response\n",
        "\n",
        "![alt text](https://drive.google.com/uc?id=19RF3AxQdcOqxCduBRqMwzhhRoQL9frSB)\n",
        "(figure by self)\n",
        "\n",
        "\n",
        "db_result is the response from the database.\n",
        "\n",
        "The system response is generated using API calls to the database to retrieve information from relevant Db.\n",
        "In this case the system makes an API call to the pub_Db which has its attributes\n",
        "\n",
        "          'pricerange':\n",
        "          'name':\n",
        "          'address':\n",
        "          'phone number':\n",
        "\n",
        "we can know iterate over batches of preprocessed DTSC-2 dialogues.we can change our batch size to include more responses from the user and system to the model.As we inrease the batch size we have batches of more number of dialogues from both user and the system.\n",
        "\n",
        "\n",
        "\n",
        "\n"
      ]
    },
    {
      "cell_type": "code",
      "metadata": {
        "id": "QDlxgIG3YoZT",
        "colab": {
          "base_uri": "https://localhost:8080/",
          "height": 646
        },
        "outputId": "ee17d342-dfbc-496d-8758-7c93a275260b"
      },
      "source": [
        "from pprint import pprint\n",
        "\n",
        "for dialog in iterator.gen_batches(batch_size=2, data_type='train'):    # In the original notebook batch_size was 1 \n",
        "    turns_x, turns_y = dialog\n",
        "    \n",
        "    print(\"User utterances:\\n----------------\\n\")\n",
        "    pprint(turns_x[0], indent=4)\n",
        "    print(\"\\nSystem responses:\\n-----------------\\n\")\n",
        "    pprint(turns_y[0], indent=4)\n",
        "    \n",
        "    break"
      ],
      "execution_count": null,
      "outputs": [
        {
          "output_type": "stream",
          "text": [
            "User utterances:\n",
            "----------------\n",
            "\n",
            "[   {'prev_resp_act': None, 'text': ''},\n",
            "    {'prev_resp_act': 'welcomemsg', 'text': 'unintelligible'},\n",
            "    {'prev_resp_act': 'request_area', 'text': 'unintelligible'},\n",
            "    {   'db_result': {   'addr': '3 - 5 millers yard mill lane',\n",
            "                         'area': 'centre',\n",
            "                         'food': 'indian',\n",
            "                         'name': 'mahal of cambridge',\n",
            "                         'phone': '01223 360409',\n",
            "                         'pricerange': 'cheap'},\n",
            "        'prev_resp_act': 'api_call',\n",
            "        'text': 'unintelligible'},\n",
            "    {'prev_resp_act': 'offer_name', 'text': 'unintelligible'},\n",
            "    {   'prev_resp_act': 'offer_name',\n",
            "        'slots': [['pricerange', 'moderate']],\n",
            "        'text': 'moderate'}]\n",
            "\n",
            "System responses:\n",
            "-----------------\n",
            "\n",
            "[   {   'act': 'welcomemsg',\n",
            "        'text': 'Hello, welcome to the Cambridge restaurant system. You can '\n",
            "                'ask for restaurants by area, price range or food type. How '\n",
            "                'may I help you?'},\n",
            "    {'act': 'request_area', 'text': 'What part of town do you have in mind?'},\n",
            "    {   'act': 'api_call',\n",
            "        'text': 'api_call area=\"dontcare\" food=\"dontcare\" '\n",
            "                'pricerange=\"dontcare\"'},\n",
            "    {   'act': 'offer_name',\n",
            "        'slots': [['name', 'mahal of cambridge']],\n",
            "        'text': 'Mahal of cambridge is a great restaurant.'},\n",
            "    {   'act': 'offer_name',\n",
            "        'slots': [['name', 'mahal of cambridge']],\n",
            "        'text': 'Mahal of cambridge is a great restaurant.'},\n",
            "    {'act': 'bye', 'text': 'You are welcome!'}]\n"
          ],
          "name": "stdout"
        }
      ]
    },
    {
      "cell_type": "markdown",
      "metadata": {
        "id": "PIuB7LEFNJw2"
      },
      "source": [
        "As training all the dialogues is edxpensive and time-consuming we have limited the training to 50 dialogues"
      ]
    },
    {
      "cell_type": "code",
      "metadata": {
        "id": "di6lWF61YrRq"
      },
      "source": [
        "!cp my_data/simple-dstc2-trn.json my_data/simple-dstc2-trn.full.json"
      ],
      "execution_count": null,
      "outputs": []
    },
    {
      "cell_type": "code",
      "metadata": {
        "id": "R60y_cZHYt9J",
        "colab": {
          "base_uri": "https://localhost:8080/",
          "height": 34
        },
        "outputId": "3fefa658-e0a9-405e-f723-0ed46a67d41b"
      },
      "source": [
        "import json\n",
        "\n",
        "NUM_TRAIN = 50\n",
        "\n",
        "with open('my_data/simple-dstc2-trn.full.json', 'rt') as fin:\n",
        "    data = json.load(fin)\n",
        "with open('my_data/simple-dstc2-trn.json', 'wt') as fout:\n",
        "    json.dump(data[:NUM_TRAIN], fout, indent=2)\n",
        "print(f\"Train set is reduced to {NUM_TRAIN} dialogues (out of {len(data)}).\")"
      ],
      "execution_count": null,
      "outputs": [
        {
          "output_type": "stream",
          "text": [
            "Train set is reduced to 50 dialogues (out of 50).\n"
          ],
          "name": "stdout"
        }
      ]
    },
    {
      "cell_type": "markdown",
      "metadata": {
        "id": "uI2n8QGxP8QG"
      },
      "source": [
        "## 1. Build Database of items"
      ]
    },
    {
      "cell_type": "markdown",
      "metadata": {
        "id": "1K5bOpWsQEZz"
      },
      "source": [
        "we need to setup a database so that we can retrieve the information about restaurents whenever the chatbot makes an api call.The database contains task-specific information such as food-type,pricerange,location,phone number etc."
      ]
    },
    {
      "cell_type": "markdown",
      "metadata": {
        "id": "9CIenCwHNw90"
      },
      "source": [
        "We can see how the input from the user is processed.The sentence is split intlo to identify domain,intent and entities and store them in slots.These slots are used when chatbot makes api calls to database to retrieve relevant information.\n",
        "\n",
        "Consider the example, Based on the slot values of attributes 'pricerange' and 'area' the chatbot makes an api call to the database to retrieve the information n regarding entries matching the given constraints.Suppose the database contains the following entries corresponding to the given slot values.The Chatbot asks for additonal information such as type of the food the user wants to eat.Based on the input from the user , the chatbot returns a response.\n",
        "\n",
        "\n",
        "![gobot_database.png](https://github.com/deepmipt/DeepPavlov/blob/master/examples/img/gobot_database.png?raw=1)\n",
        "\n",
        "figure source: (https://github.com/deepmipt/DeepPavlov/blob/master/examples/img/gobot_database.png?raw=1 )\n",
        "\n",
        "\n",
        "          >> database([{'pricerange': 'costly', 'area': 'center'}])\n",
        "\n",
        "\n",
        "          Out[1]: \n",
        "        [[{'name': 'Subway',\n",
        "           'food': 'american',\n",
        "           'pricerange': 'costly',\n",
        "           'area': 'center',\n",
        "           'addr': '2 metrotech,brooklyn',\n",
        "           'phone': '01223 244277',\n",
        "           'postcode': 'c.b 1, 7 d.y'},\n",
        "          {'name': 'Taco bell',\n",
        "           'food': 'mexican',\n",
        "           'pricerange': 'costly',\n",
        "           'area': 'center',\n",
        "           'addr': '6 metrotech,brooklyn',\n",
        "           'phone': '01223 327908',\n",
        "           'postcode': 'c.b 1, 7 d.y'}]]\n",
        "           "
      ]
    },
    {
      "cell_type": "code",
      "metadata": {
        "id": "uZygyHSWY0eI",
        "colab": {
          "base_uri": "https://localhost:8080/",
          "height": 493
        },
        "outputId": "744032dd-b07b-4ea1-fb67-27caecb44511"
      },
      "source": [
        "!head -n 78 my_data/simple-dstc2-trn.json | tail +51"
      ],
      "execution_count": null,
      "outputs": [
        {
          "output_type": "stream",
          "text": [
            "    {\n",
            "      \"speaker\": 2,\n",
            "      \"text\": \"api_call area=\\\"south\\\" food=\\\"dontcare\\\" pricerange=\\\"cheap\\\"\",\n",
            "      \"db_result\": {\n",
            "        \"food\": \"chinese\",\n",
            "        \"pricerange\": \"cheap\",\n",
            "        \"area\": \"south\",\n",
            "        \"addr\": \"cambridge leisure park clifton way cherry hinton\",\n",
            "        \"phone\": \"01223 244277\",\n",
            "        \"postcode\": \"c.b 1, 7 d.y\",\n",
            "        \"name\": \"the lucky star\"\n",
            "      },\n",
            "      \"slots\": [\n",
            "        [\n",
            "          \"area\",\n",
            "          \"south\"\n",
            "        ],\n",
            "        [\n",
            "          \"pricerange\",\n",
            "          \"cheap\"\n",
            "        ],\n",
            "        [\n",
            "          \"food\",\n",
            "          \"dontcare\"\n",
            "        ]\n",
            "      ],\n",
            "      \"act\": \"api_call\"\n",
            "    },\n"
          ],
          "name": "stdout"
        }
      ]
    },
    {
      "cell_type": "markdown",
      "metadata": {
        "id": "mIzsyr-CRiGu"
      },
      "source": [
        "We import Sqlite3Database package from DeepPavLov.we are creating a database of restaurents with primary key as 'name' of the restaurent and set the path of the database."
      ]
    },
    {
      "cell_type": "code",
      "metadata": {
        "id": "TOeT6bsnY2eA",
        "colab": {
          "base_uri": "https://localhost:8080/",
          "height": 71
        },
        "outputId": "9358913b-5e63-4f84-c65f-707327651af4"
      },
      "source": [
        "\n",
        "from deeppavlov.core.data.sqlite_database import Sqlite3Database\n",
        "\n",
        "database = Sqlite3Database(primary_keys=[\"name\"],\n",
        "                           save_path=\"my_bot/db.sqlite\")"
      ],
      "execution_count": null,
      "outputs": [
        {
          "output_type": "stream",
          "text": [
            "2020-05-17 04:20:15.505 WARNING in 'deeppavlov.core.models.serializable'['serializable'] at line 49: No load path is set for Sqlite3Database in 'infer' mode. Using save path instead\n",
            "2020-05-17 04:20:15.515 INFO in 'deeppavlov.core.data.sqlite_database'['sqlite_database'] at line 66: Loading database from /content/my_bot/db.sqlite.\n"
          ],
          "name": "stderr"
        }
      ]
    },
    {
      "cell_type": "markdown",
      "metadata": {
        "id": "KBEJswahR79o"
      },
      "source": [
        "Feeding all the results of the api calls in the database.A table with keys is created -\n",
        "\n",
        "            'food' : 'text'\n",
        "            'area' : 'text'\n",
        "            'addr' : 'text'\n",
        "            'postcode': 'text'\n",
        "            'pricerange' : 'text'\n",
        "            'phone' : 'text'\n",
        "            'name' : 'text'\n",
        "\n",
        "  A total of     api calls are made in the dataset."
      ]
    },
    {
      "cell_type": "code",
      "metadata": {
        "id": "MBw5ZBpZY3Du",
        "colab": {
          "base_uri": "https://localhost:8080/",
          "height": 34
        },
        "outputId": "b347510e-5c75-4fa3-d6e9-e2b38c36929c"
      },
      "source": [
        "\n",
        "db_results = []\n",
        "\n",
        "for dialog in iterator.gen_batches(batch_size=1, data_type='all'):\n",
        "    turns_x, turns_y = dialog\n",
        "    db_results.extend(x['db_result'] for x in turns_x[0] if x.get('db_result'))\n",
        "\n",
        "print(f\"Adding {len(db_results)} items.\")\n",
        "if db_results:\n",
        "    database.fit(db_results)"
      ],
      "execution_count": null,
      "outputs": [
        {
          "output_type": "stream",
          "text": [
            "Adding 1780 items.\n"
          ],
          "name": "stdout"
        }
      ]
    },
    {
      "cell_type": "markdown",
      "metadata": {
        "id": "ecPct_W5SwiP"
      },
      "source": [
        "Retreiving restaurents corresponding to attribute values 'pricerange : 'cheap' and 'area': 'south'\n",
        "we have reaturents with matching attribute values."
      ]
    },
    {
      "cell_type": "code",
      "metadata": {
        "id": "hajDccXkY5gs",
        "colab": {
          "base_uri": "https://localhost:8080/",
          "height": 255
        },
        "outputId": "6243c4e7-b9e8-45b9-ad66-6d0fffdfe725"
      },
      "source": [
        "database([{'pricerange': 'cheap', 'area': 'south'}])"
      ],
      "execution_count": null,
      "outputs": [
        {
          "output_type": "execute_result",
          "data": {
            "text/plain": [
              "[[{'addr': 'cambridge leisure park clifton way',\n",
              "   'area': 'south',\n",
              "   'food': 'portuguese',\n",
              "   'name': 'nandos',\n",
              "   'phone': '01223 327908',\n",
              "   'postcode': 'c.b 1, 7 d.y',\n",
              "   'pricerange': 'cheap'},\n",
              "  {'addr': 'cambridge leisure park clifton way cherry hinton',\n",
              "   'area': 'south',\n",
              "   'food': 'chinese',\n",
              "   'name': 'the lucky star',\n",
              "   'phone': '01223 244277',\n",
              "   'postcode': 'c.b 1, 7 d.y',\n",
              "   'pricerange': 'cheap'}]]"
            ]
          },
          "metadata": {
            "tags": []
          },
          "execution_count": 276
        }
      ]
    },
    {
      "cell_type": "code",
      "metadata": {
        "id": "D_dsycY0Y7f_",
        "colab": {
          "base_uri": "https://localhost:8080/",
          "height": 68
        },
        "outputId": "b7f77ac7-bd74-49fa-b909-1925c44c2cb5"
      },
      "source": [
        "!ls my_bot"
      ],
      "execution_count": null,
      "outputs": [
        {
          "output_type": "stream",
          "text": [
            "checkpoint\t\t   model.index\tslotfill\n",
            "db.sqlite\t\t   model.json\tslotfill_config.json\n",
            "model.data-00000-of-00001  model.meta\tword.dict\n"
          ],
          "name": "stdout"
        }
      ]
    },
    {
      "cell_type": "markdown",
      "metadata": {
        "id": "uIJweDn_Vtk1"
      },
      "source": [
        "## 2. Build Slot Filler"
      ]
    },
    {
      "cell_type": "markdown",
      "metadata": {
        "id": "HYsoNzVkWMam"
      },
      "source": [
        "Solt filler is used to find the slot values in the user input.\n",
        "Ex: \" Suggest me cheap Indian restaurent\"\n",
        "\n",
        "slot values :\n",
        "                  'pricerange' : 'cheap'\n",
        "                  'food' : 'Indian'\n",
        "\n",
        "sllot filler facilitates in finding the corresponding slot values in the user input.\n",
        "\n",
        "slots_vals.json defines the slot type and slot values for the following dataset.\n",
        "\n",
        "we need to provide all slot type.Ex; 'pricerange','food','name' etc\n",
        "we need to provide all possible values of the slot type.\n",
        "for example the user may input the type of food differently.Ex: He may input India instead of indian.Therefore we have to provide all the possible values of the slot type.\n"
      ]
    },
    {
      "cell_type": "code",
      "metadata": {
        "id": "wAtj-UYQY-Ne",
        "colab": {
          "base_uri": "https://localhost:8080/",
          "height": 88
        },
        "outputId": "b34cd15b-0f0f-4de9-e36a-a3f8f10eecef"
      },
      "source": [
        "from deeppavlov.download import download_decompress\n",
        "\n",
        "download_decompress(url='http://files.deeppavlov.ai/deeppavlov_data/dstc_slot_vals.tar.gz',\n",
        "                    download_path='my_bot/slotfill')"
      ],
      "execution_count": null,
      "outputs": [
        {
          "output_type": "stream",
          "text": [
            "2020-05-17 04:20:17.244 INFO in 'deeppavlov.core.data.utils'['utils'] at line 80: Downloading from http://files.deeppavlov.ai/deeppavlov_data/dstc_slot_vals.tar.gz to my_bot/slotfill/dstc_slot_vals.tar.gz\n",
            "100%|██████████| 1.62k/1.62k [00:00<00:00, 2.54MB/s]\n",
            "2020-05-17 04:20:17.249 INFO in 'deeppavlov.core.data.utils'['utils'] at line 242: Extracting my_bot/slotfill/dstc_slot_vals.tar.gz archive into my_bot/slotfill\n"
          ],
          "name": "stderr"
        }
      ]
    },
    {
      "cell_type": "code",
      "metadata": {
        "id": "UmKdU4LYZCvK",
        "colab": {
          "base_uri": "https://localhost:8080/",
          "height": 34
        },
        "outputId": "8e1343f5-6c46-45ff-c712-69bd37b9f395"
      },
      "source": [
        "!ls my_bot/slotfill"
      ],
      "execution_count": null,
      "outputs": [
        {
          "output_type": "stream",
          "text": [
            "dstc_slot_vals.json\n"
          ],
          "name": "stdout"
        }
      ]
    },
    {
      "cell_type": "markdown",
      "metadata": {
        "id": "m-MNl4HIYgoR"
      },
      "source": [
        "Some of the slot type with corresponding slot values"
      ]
    },
    {
      "cell_type": "code",
      "metadata": {
        "id": "JqhTj-wLZE8M",
        "colab": {
          "base_uri": "https://localhost:8080/",
          "height": 187
        },
        "outputId": "2ca7f4d5-4765-4db7-d509-1c79946f2675"
      },
      "source": [
        "!head -n 10 my_bot/slotfill/dstc_slot_vals.json"
      ],
      "execution_count": null,
      "outputs": [
        {
          "output_type": "stream",
          "text": [
            "{\n",
            "    \"food\": {\n",
            "        \"caribbean\": [\n",
            "            \"carraibean\",\n",
            "            \"carribean\",\n",
            "            \"caribbean\"\n",
            "        ],\n",
            "        \"kosher\": [\n",
            "            \"kosher\"\n",
            "        ],\n"
          ],
          "name": "stdout"
        }
      ]
    },
    {
      "cell_type": "code",
      "metadata": {
        "id": "xylz7p5fZFmo"
      },
      "source": [
        "from deeppavlov import configs\n",
        "from deeppavlov.core.common.file import read_json\n",
        "\n",
        "slotfill_config = read_json(configs.ner.slotfill_simple_dstc2_raw)"
      ],
      "execution_count": null,
      "outputs": []
    },
    {
      "cell_type": "code",
      "metadata": {
        "id": "19NAyu7nZIgS"
      },
      "source": [
        "slotfill_config['metadata']['variables']['DATA_PATH'] = 'my_data'\n",
        "slotfill_config['metadata']['variables']['SLOT_VALS_PATH'] = 'my_bot/slotfill/dstc_slot_vals.json'\n"
      ],
      "execution_count": null,
      "outputs": []
    },
    {
      "cell_type": "markdown",
      "metadata": {
        "id": "OPeRE56yY5lD"
      },
      "source": [
        "Evaluating the model(slotfiller)"
      ]
    },
    {
      "cell_type": "code",
      "metadata": {
        "id": "yMrOw5uXZLdX",
        "colab": {
          "base_uri": "https://localhost:8080/",
          "height": 173
        },
        "outputId": "34b7dcbc-6d86-427f-d239-9ddfd60c8bca"
      },
      "source": [
        "from deeppavlov import evaluate_model\n",
        "\n",
        "slotfill = evaluate_model(slotfill_config);"
      ],
      "execution_count": null,
      "outputs": [
        {
          "output_type": "stream",
          "text": [
            "2020-05-17 04:20:19.643 INFO in 'deeppavlov.dataset_readers.dstc2_reader'['dstc2_reader'] at line 290: [loading dialogs from /content/my_data/simple-dstc2-trn.json]\n",
            "2020-05-17 04:20:19.660 INFO in 'deeppavlov.dataset_readers.dstc2_reader'['dstc2_reader'] at line 290: [loading dialogs from /content/my_data/simple-dstc2-val.json]\n",
            "2020-05-17 04:20:19.760 INFO in 'deeppavlov.dataset_readers.dstc2_reader'['dstc2_reader'] at line 290: [loading dialogs from /content/my_data/simple-dstc2-tst.json]\n",
            "2020-05-17 04:20:19.851 INFO in 'deeppavlov.dataset_readers.dstc2_reader'['dstc2_reader'] at line 282: There are 479 samples in train split.\n",
            "2020-05-17 04:20:19.852 INFO in 'deeppavlov.dataset_readers.dstc2_reader'['dstc2_reader'] at line 283: There are 6231 samples in valid split.\n",
            "2020-05-17 04:20:19.856 INFO in 'deeppavlov.dataset_readers.dstc2_reader'['dstc2_reader'] at line 284: There are 6345 samples in test split.\n"
          ],
          "name": "stderr"
        },
        {
          "output_type": "stream",
          "text": [
            "{\"valid\": {\"eval_examples_count\": 1444, \"metrics\": {\"slots_accuracy\": 0.9307}, \"time_spent\": \"0:00:37\"}}\n",
            "{\"test\": {\"eval_examples_count\": 1386, \"metrics\": {\"slots_accuracy\": 0.9481}, \"time_spent\": \"0:00:36\"}}\n"
          ],
          "name": "stdout"
        }
      ]
    },
    {
      "cell_type": "markdown",
      "metadata": {
        "id": "HOIdhbfZZAam"
      },
      "source": [
        "The slotfiller was able to accurately identify user information in slots with an accuracy of 93% on validation set and 95% on test set."
      ]
    },
    {
      "cell_type": "markdown",
      "metadata": {
        "id": "03vvswwuZYfT"
      },
      "source": [
        "Bulding the slotfiller using DeepPavLov config"
      ]
    },
    {
      "cell_type": "code",
      "metadata": {
        "id": "TfCBEchWZNYh"
      },
      "source": [
        "from deeppavlov import build_model\n",
        "\n",
        "slotfill = build_model(slotfill_config)"
      ],
      "execution_count": null,
      "outputs": []
    },
    {
      "cell_type": "markdown",
      "metadata": {
        "id": "_KE4ONETZhDF"
      },
      "source": [
        "Testing the slot filler"
      ]
    },
    {
      "cell_type": "code",
      "metadata": {
        "id": "EAGqmKPgZP5u",
        "colab": {
          "base_uri": "https://localhost:8080/",
          "height": 34
        },
        "outputId": "a84ee6db-0e41-4788-8aae-ddfdfda7e883"
      },
      "source": [
        "slotfill(['i want cheap chinee food'])"
      ],
      "execution_count": null,
      "outputs": [
        {
          "output_type": "execute_result",
          "data": {
            "text/plain": [
              "[{'food': 'chinese', 'pricerange': 'cheap'}]"
            ]
          },
          "metadata": {
            "tags": []
          },
          "execution_count": 285
        }
      ]
    },
    {
      "cell_type": "code",
      "metadata": {
        "id": "5i40hDUoZmlW",
        "colab": {
          "base_uri": "https://localhost:8080/",
          "height": 34
        },
        "outputId": "16f6a604-976f-4a58-805e-22a07a97d9c4"
      },
      "source": [
        "slotfill(['I want India food'])"
      ],
      "execution_count": null,
      "outputs": [
        {
          "output_type": "execute_result",
          "data": {
            "text/plain": [
              "[{'food': 'indian'}]"
            ]
          },
          "metadata": {
            "tags": []
          },
          "execution_count": 286
        }
      ]
    },
    {
      "cell_type": "markdown",
      "metadata": {
        "id": "_rp3gHqGZ2jC"
      },
      "source": [
        "Saving slotfill"
      ]
    },
    {
      "cell_type": "code",
      "metadata": {
        "id": "T3KhBDveZT1d"
      },
      "source": [
        "import json\n",
        "\n",
        "json.dump(slotfill_config, open('my_bot/slotfill_config.json', 'wt'))"
      ],
      "execution_count": null,
      "outputs": []
    },
    {
      "cell_type": "code",
      "metadata": {
        "id": "8bbjfGN7ZVvN",
        "colab": {
          "base_uri": "https://localhost:8080/",
          "height": 68
        },
        "outputId": "07fd6447-110a-4d59-b013-adbbfbf6cf92"
      },
      "source": [
        "!ls my_bot"
      ],
      "execution_count": null,
      "outputs": [
        {
          "output_type": "stream",
          "text": [
            "checkpoint\t\t   model.index\tslotfill\n",
            "db.sqlite\t\t   model.json\tslotfill_config.json\n",
            "model.data-00000-of-00001  model.meta\tword.dict\n"
          ],
          "name": "stdout"
        }
      ]
    },
    {
      "cell_type": "markdown",
      "metadata": {
        "id": "VU5cNKxUaNTy"
      },
      "source": [
        "## 3. Build and Train a Bot"
      ]
    },
    {
      "cell_type": "markdown",
      "metadata": {
        "id": "q4M9mlvOaQgW"
      },
      "source": [
        "![gobot_policy.png](https://github.com/deepmipt/DeepPavlov/blob/master/examples/img/gobot_policy.png?raw=1)\n",
        "\n",
        " Source : (https://github.com/deepmipt/DeepPavlov/blob/master/examples/img/gobot_policy.png?raw=1)\n",
        "\n",
        " Based on the utterence and slot values the policy module in the dialogu manager decides which action to be taken.The policy in the bot is done by Recurrent neural networks with a dense layer of softmax function on top.Based on the response generated by the network,chatbot makes api calls to retrieve corresponding information.The ouputs from the database are used with the templates to provide the response to the user.\n",
        "\n",
        " The response generated by RNN and softmax are sift decisions.The action taken is decided on the corresponding probability of the action."
      ]
    },
    {
      "cell_type": "markdown",
      "metadata": {
        "id": "07HT-1CsZ7jW"
      },
      "source": [
        "List of templates in the dataset"
      ]
    },
    {
      "cell_type": "code",
      "metadata": {
        "id": "AGVxigoaZWxU",
        "colab": {
          "base_uri": "https://localhost:8080/",
          "height": 187
        },
        "outputId": "24ce1e36-a81f-45e9-bc37-51c5205b598f"
      },
      "source": [
        "!head -n 10 my_data/simple-dstc2-templates.txt"
      ],
      "execution_count": null,
      "outputs": [
        {
          "output_type": "stream",
          "text": [
            "api_call\tapi_call area=\"#area\" food=\"#food\" pricerange=\"#pricerange\"\n",
            "bye\tYou are welcome!\n",
            "canthear\tSorry, I can't hear you.\n",
            "canthelp_area\tI'm sorry but there is no #area american restaurant in the #area of town.\n",
            "canthelp_area_food\tSorry there is no #food restaurant in the #area of town.\n",
            "canthelp_area_food_pricerange\tSorry there is no #pricerange restaurant in the #area of town serving #food food.\n",
            "canthelp_area_pricerange\tSorry there is no #pricerange restaurant in the #area of town serving #area american food.\n",
            "canthelp_food\tI am sorry but there is no #food restaurant that matches your request.\n",
            "canthelp_food_pricerange\tSorry there is no #food restaurant in the #pricerange price range.\n",
            "confirm-domain\tYou are looking for a restaurant is that right?\n"
          ],
          "name": "stdout"
        }
      ]
    },
    {
      "cell_type": "markdown",
      "metadata": {
        "id": "VMHkQxPOaAfH"
      },
      "source": [
        "Sample of training set of DSTC-2"
      ]
    },
    {
      "cell_type": "code",
      "metadata": {
        "id": "0c7i0HCSZb5b",
        "colab": {
          "base_uri": "https://localhost:8080/",
          "height": 425
        },
        "outputId": "39b41144-0d47-4333-ebfc-f1d73dd0f6fa"
      },
      "source": [
        "!head -n 24 my_data/simple-dstc2-trn.json"
      ],
      "execution_count": null,
      "outputs": [
        {
          "output_type": "stream",
          "text": [
            "[\n",
            "  [\n",
            "    {\n",
            "      \"speaker\": 2,\n",
            "      \"text\": \"Hello, welcome to the Cambridge restaurant system. You can ask for restaurants by area, price range or food type. How may I help you?\",\n",
            "      \"slots\": [],\n",
            "      \"act\": \"welcomemsg\"\n",
            "    },\n",
            "    {\n",
            "      \"speaker\": 1,\n",
            "      \"text\": \"cheap restaurant\",\n",
            "      \"slots\": [\n",
            "        [\n",
            "          \"pricerange\",\n",
            "          \"cheap\"\n",
            "        ]\n",
            "      ]\n",
            "    },\n",
            "    {\n",
            "      \"speaker\": 2,\n",
            "      \"text\": \"What kind of food would you like?\",\n",
            "      \"slots\": [],\n",
            "      \"act\": \"request_food\"\n",
            "    },\n"
          ],
          "name": "stdout"
        }
      ]
    },
    {
      "cell_type": "markdown",
      "metadata": {
        "id": "fOFP2id16rPF"
      },
      "source": [
        "There are five main sections in DeepPavLov config \n",
        "\n",
        "* Dataset reader - It configures dataset reader component.Manages downloading data and saving it on the disk/drive.\n",
        "* Dataset Iterator- It configures batch generator component.\n",
        "* metadata - Contains extra information about data use and telegram bot parameters.\n",
        "* train - It configures training process.Manages the size of the batch and number of training epochs.\n",
        "* chainer - It specifies data flow and the order in which the components will be run.\n",
        "\n",
        "\n",
        "\n"
      ]
    },
    {
      "cell_type": "code",
      "metadata": {
        "id": "wtSWIGyBZeQs"
      },
      "source": [
        "from deeppavlov import configs\n",
        "from deeppavlov.core.common.file import read_json\n",
        "\n",
        "gobot_config = read_json(configs.go_bot.gobot_simple_dstc2)"
      ],
      "execution_count": null,
      "outputs": []
    },
    {
      "cell_type": "code",
      "metadata": {
        "id": "WEpVFMetZgw3"
      },
      "source": [
        "gobot_config['chainer']['pipe'][-1]['embedder'] = None"
      ],
      "execution_count": null,
      "outputs": []
    },
    {
      "cell_type": "code",
      "metadata": {
        "id": "TpdoCDNxZi8Q"
      },
      "source": [
        "gobot_config['chainer']['pipe'][-1]['database'] = {\n",
        "    'class_name': 'sqlite_database',\n",
        "    'primary_keys': [\"name\"],\n",
        "    'save_path': 'my_bot/db.sqlite'\n",
        "}"
      ],
      "execution_count": null,
      "outputs": []
    },
    {
      "cell_type": "markdown",
      "metadata": {
        "id": "lYsKlyakcZv1"
      },
      "source": [
        "### Levenshtein Distance\n",
        "\n",
        "\"Levenshtein distance between two words is the minimum number of single-character edits (i.e. insertions, deletions, or substitutions) required to change one word into the other.\" [link text](https://dzone.com/articles/the-levenshtein-algorithm-1).\n",
        "\n",
        "For ex, \n",
        "take two words:   \n",
        "\n",
        "\n",
        "                    local    &    global\n",
        "                    Substituting 'c' for 'a'\n",
        "                    inserting  'g' at front\n",
        "\n",
        "        Levenshtein distance between the words is 2.\n",
        "\n",
        "\n",
        "Configure bot to use levenshtein distance based slot filler:\n"
      ]
    },
    {
      "cell_type": "code",
      "metadata": {
        "id": "kcIFESglZky0"
      },
      "source": [
        "gobot_config['chainer']['pipe'][-1]['slot_filler']['config_path'] = 'my_bot/slotfill_config.json'"
      ],
      "execution_count": null,
      "outputs": []
    },
    {
      "cell_type": "markdown",
      "metadata": {
        "id": "DC_9vLiccq4h"
      },
      "source": [
        "Slot types "
      ]
    },
    {
      "cell_type": "code",
      "metadata": {
        "id": "io4AB2GEZnPD"
      },
      "source": [
        "gobot_config['chainer']['pipe'][-1]['tracker']['slot_names'] = ['pricerange', 'this', 'area', 'food']"
      ],
      "execution_count": null,
      "outputs": []
    },
    {
      "cell_type": "markdown",
      "metadata": {
        "id": "yQFFOVqNcdt-"
      },
      "source": [
        "Configuring the bot to use saved templates :"
      ]
    },
    {
      "cell_type": "code",
      "metadata": {
        "id": "T48Q55KnZpXR"
      },
      "source": [
        "gobot_config['chainer']['pipe'][-1]['template_type'] = 'DefaultTemplate'\n",
        "gobot_config['chainer']['pipe'][-1]['template_path'] = 'my_data/simple-dstc2-templates.txt'"
      ],
      "execution_count": null,
      "outputs": []
    },
    {
      "cell_type": "code",
      "metadata": {
        "id": "n06fy38kZr1g"
      },
      "source": [
        "gobot_config['metadata']['variables']['DATA_PATH'] = 'my_data'\n",
        "gobot_config['metadata']['variables']['MODEL_PATH'] = 'my_bot'"
      ],
      "execution_count": null,
      "outputs": []
    },
    {
      "cell_type": "code",
      "metadata": {
        "id": "6v8x7Mwi1Vn3"
      },
      "source": [
        ""
      ],
      "execution_count": null,
      "outputs": []
    },
    {
      "cell_type": "markdown",
      "metadata": {
        "id": "HJYa8Hn7cu-U"
      },
      "source": [
        "Traning the network \n",
        "\n",
        "Batch size is 8.Therefore every bactch contains 8 dialogues from the user and 8 dialogues from the chatbot as training data.\n",
        "Maximum number of batches is 100(Original notebook had 250 but due to excessive time for training I have taken only 100.There is no significant drop in accuracy i.e, 0.48 for 100 batches and 0.5 for 250 batches)\n"
      ]
    },
    {
      "cell_type": "code",
      "metadata": {
        "id": "KX-BDPyeZuX1",
        "colab": {
          "base_uri": "https://localhost:8080/",
          "height": 887
        },
        "outputId": "50df3787-fc4a-4994-a248-45e518663a18"
      },
      "source": [
        "from deeppavlov import train_model\n",
        "\n",
        "gobot_config['train']['batch_size'] = 8 # batch size\n",
        "gobot_config['train']['max_batches'] = 100 # maximum number of training batches\n",
        "gobot_config['train']['log_on_k_batches'] = 20\n",
        "gobot_config['train']['val_every_n_batches'] = 40 # evaluate on full 'valid' split each n batches\n",
        "gobot_config['train']['log_every_n_batches'] = 40 # evaluate on 20 batches of 'train' split every n batches\n",
        "\n",
        "train_model(gobot_config);"
      ],
      "execution_count": null,
      "outputs": [
        {
          "output_type": "stream",
          "text": [
            "2020-05-17 04:21:35.601 INFO in 'deeppavlov.dataset_readers.dstc2_reader'['dstc2_reader'] at line 290: [loading dialogs from /content/my_data/simple-dstc2-trn.json]\n",
            "2020-05-17 04:21:35.612 INFO in 'deeppavlov.dataset_readers.dstc2_reader'['dstc2_reader'] at line 290: [loading dialogs from /content/my_data/simple-dstc2-val.json]\n",
            "2020-05-17 04:21:36.72 INFO in 'deeppavlov.dataset_readers.dstc2_reader'['dstc2_reader'] at line 290: [loading dialogs from /content/my_data/simple-dstc2-tst.json]\n",
            "2020-05-17 04:21:36.145 INFO in 'deeppavlov.dataset_readers.dstc2_reader'['dstc2_reader'] at line 282: There are 479 samples in train split.\n",
            "2020-05-17 04:21:36.146 INFO in 'deeppavlov.dataset_readers.dstc2_reader'['dstc2_reader'] at line 283: There are 6231 samples in valid split.\n",
            "2020-05-17 04:21:36.147 INFO in 'deeppavlov.dataset_readers.dstc2_reader'['dstc2_reader'] at line 284: There are 6345 samples in test split.\n",
            "2020-05-17 04:21:36.164 INFO in 'deeppavlov.core.data.simple_vocab'['simple_vocab'] at line 115: [loading vocabulary from /content/my_bot/word.dict]\n",
            "2020-05-17 04:21:36.176 INFO in 'deeppavlov.core.data.simple_vocab'['simple_vocab'] at line 101: [saving vocabulary to /content/my_bot/word.dict]\n",
            "2020-05-17 04:21:36.179 WARNING in 'deeppavlov.core.models.serializable'['serializable'] at line 52: No load path is set for Sqlite3Database!\n",
            "2020-05-17 04:21:36.181 INFO in 'deeppavlov.core.data.sqlite_database'['sqlite_database'] at line 66: Loading database from /content/my_bot/db.sqlite.\n",
            "2020-05-17 04:21:37.357 INFO in 'deeppavlov.models.go_bot.network'['network'] at line 164: [loading templates from /content/my_data/simple-dstc2-templates.txt]\n",
            "2020-05-17 04:21:37.360 INFO in 'deeppavlov.models.go_bot.network'['network'] at line 167: 46 templates loaded.\n",
            "2020-05-17 04:21:37.361 INFO in 'deeppavlov.models.go_bot.network'['network'] at line 215: Calculated input size for `GoalOrientedBotNetwork` is 205\n",
            "2020-05-17 04:21:38.277 INFO in 'deeppavlov.models.go_bot.network'['network'] at line 253: [initializing `GoalOrientedBot` from saved]\n",
            "2020-05-17 04:21:38.278 INFO in 'deeppavlov.models.go_bot.network'['network'] at line 717: [loading parameters from /content/my_bot/model.json]\n",
            "2020-05-17 04:21:38.287 INFO in 'deeppavlov.core.models.tf_model'['tf_model'] at line 51: [loading model from /content/my_bot/model]\n"
          ],
          "name": "stderr"
        },
        {
          "output_type": "stream",
          "text": [
            "INFO:tensorflow:Restoring parameters from /content/my_bot/model\n"
          ],
          "name": "stdout"
        },
        {
          "output_type": "stream",
          "text": [
            "2020-05-17 04:23:28.46 INFO in 'deeppavlov.core.trainers.nn_trainer'['nn_trainer'] at line 198: Initial best per_item_dialog_accuracy of 0.4807\n"
          ],
          "name": "stderr"
        },
        {
          "output_type": "stream",
          "text": [
            "{\"valid\": {\"eval_examples_count\": 575, \"metrics\": {\"per_item_dialog_accuracy\": 0.4807}, \"time_spent\": \"0:01:50\", \"epochs_done\": 0, \"batches_seen\": 0, \"train_examples_seen\": 0, \"impatience\": 0, \"patience_limit\": 10}}\n",
            "{\"train\": {\"eval_examples_count\": 50, \"metrics\": {\"per_item_dialog_accuracy\": 0.8309}, \"time_spent\": \"0:02:46\", \"epochs_done\": 5, \"batches_seen\": 40, \"train_examples_seen\": 290, \"learning_rate\": 0.003, \"momentum\": 0.95, \"loss\": 0.373494853079319}}\n"
          ],
          "name": "stdout"
        },
        {
          "output_type": "stream",
          "text": [
            "2020-05-17 04:26:12.658 INFO in 'deeppavlov.core.trainers.nn_trainer'['nn_trainer'] at line 206: Improved best per_item_dialog_accuracy of 0.4967\n",
            "2020-05-17 04:26:12.660 INFO in 'deeppavlov.core.trainers.nn_trainer'['nn_trainer'] at line 208: Saving model\n",
            "2020-05-17 04:26:12.661 INFO in 'deeppavlov.core.models.tf_model'['tf_model'] at line 75: [saving model to /content/my_bot/model]\n",
            "2020-05-17 04:26:12.932 INFO in 'deeppavlov.models.go_bot.network'['network'] at line 711: [saving parameters to /content/my_bot/model.json]\n"
          ],
          "name": "stderr"
        },
        {
          "output_type": "stream",
          "text": [
            "{\"valid\": {\"eval_examples_count\": 575, \"metrics\": {\"per_item_dialog_accuracy\": 0.4967}, \"time_spent\": \"0:04:35\", \"epochs_done\": 5, \"batches_seen\": 40, \"train_examples_seen\": 290, \"impatience\": 0, \"patience_limit\": 10}}\n",
            "{\"train\": {\"eval_examples_count\": 50, \"metrics\": {\"per_item_dialog_accuracy\": 0.8685}, \"time_spent\": \"0:05:30\", \"epochs_done\": 11, \"batches_seen\": 80, \"train_examples_seen\": 574, \"learning_rate\": 0.003, \"momentum\": 0.95, \"loss\": 0.20555392149835824}}\n"
          ],
          "name": "stdout"
        },
        {
          "output_type": "stream",
          "text": [
            "2020-05-17 04:28:57.548 INFO in 'deeppavlov.core.trainers.nn_trainer'['nn_trainer'] at line 211: Did not improve on the per_item_dialog_accuracy of 0.4967\n"
          ],
          "name": "stderr"
        },
        {
          "output_type": "stream",
          "text": [
            "{\"valid\": {\"eval_examples_count\": 575, \"metrics\": {\"per_item_dialog_accuracy\": 0.4945}, \"time_spent\": \"0:07:20\", \"epochs_done\": 11, \"batches_seen\": 80, \"train_examples_seen\": 574, \"impatience\": 1, \"patience_limit\": 10}}\n"
          ],
          "name": "stdout"
        },
        {
          "output_type": "stream",
          "text": [
            "2020-05-17 04:29:20.829 INFO in 'deeppavlov.core.data.simple_vocab'['simple_vocab'] at line 115: [loading vocabulary from /content/my_bot/word.dict]\n",
            "2020-05-17 04:29:20.832 WARNING in 'deeppavlov.core.models.serializable'['serializable'] at line 49: No load path is set for Sqlite3Database in 'infer' mode. Using save path instead\n",
            "2020-05-17 04:29:20.836 INFO in 'deeppavlov.core.data.sqlite_database'['sqlite_database'] at line 66: Loading database from /content/my_bot/db.sqlite.\n",
            "2020-05-17 04:29:21.378 INFO in 'deeppavlov.models.go_bot.network'['network'] at line 164: [loading templates from /content/my_data/simple-dstc2-templates.txt]\n",
            "2020-05-17 04:29:21.380 INFO in 'deeppavlov.models.go_bot.network'['network'] at line 167: 46 templates loaded.\n",
            "2020-05-17 04:29:21.382 INFO in 'deeppavlov.models.go_bot.network'['network'] at line 215: Calculated input size for `GoalOrientedBotNetwork` is 205\n",
            "2020-05-17 04:29:22.210 INFO in 'deeppavlov.models.go_bot.network'['network'] at line 253: [initializing `GoalOrientedBot` from saved]\n",
            "2020-05-17 04:29:22.212 INFO in 'deeppavlov.models.go_bot.network'['network'] at line 717: [loading parameters from /content/my_bot/model.json]\n",
            "2020-05-17 04:29:22.221 INFO in 'deeppavlov.core.models.tf_model'['tf_model'] at line 51: [loading model from /content/my_bot/model]\n"
          ],
          "name": "stderr"
        },
        {
          "output_type": "stream",
          "text": [
            "INFO:tensorflow:Restoring parameters from /content/my_bot/model\n",
            "{\"valid\": {\"eval_examples_count\": 575, \"metrics\": {\"per_item_dialog_accuracy\": 0.4967}, \"time_spent\": \"0:01:49\"}}\n"
          ],
          "name": "stdout"
        },
        {
          "output_type": "stream",
          "text": [
            "2020-05-17 04:32:58.584 INFO in 'deeppavlov.core.data.simple_vocab'['simple_vocab'] at line 115: [loading vocabulary from /content/my_bot/word.dict]\n",
            "2020-05-17 04:32:58.587 WARNING in 'deeppavlov.core.models.serializable'['serializable'] at line 49: No load path is set for Sqlite3Database in 'infer' mode. Using save path instead\n",
            "2020-05-17 04:32:58.592 INFO in 'deeppavlov.core.data.sqlite_database'['sqlite_database'] at line 66: Loading database from /content/my_bot/db.sqlite.\n"
          ],
          "name": "stderr"
        },
        {
          "output_type": "stream",
          "text": [
            "{\"test\": {\"eval_examples_count\": 576, \"metrics\": {\"per_item_dialog_accuracy\": 0.4883}, \"time_spent\": \"0:01:48\"}}\n"
          ],
          "name": "stdout"
        },
        {
          "output_type": "stream",
          "text": [
            "2020-05-17 04:32:59.90 INFO in 'deeppavlov.models.go_bot.network'['network'] at line 164: [loading templates from /content/my_data/simple-dstc2-templates.txt]\n",
            "2020-05-17 04:32:59.92 INFO in 'deeppavlov.models.go_bot.network'['network'] at line 167: 46 templates loaded.\n",
            "2020-05-17 04:32:59.93 INFO in 'deeppavlov.models.go_bot.network'['network'] at line 215: Calculated input size for `GoalOrientedBotNetwork` is 205\n",
            "2020-05-17 04:32:59.896 INFO in 'deeppavlov.models.go_bot.network'['network'] at line 253: [initializing `GoalOrientedBot` from saved]\n",
            "2020-05-17 04:32:59.897 INFO in 'deeppavlov.models.go_bot.network'['network'] at line 717: [loading parameters from /content/my_bot/model.json]\n",
            "2020-05-17 04:32:59.904 INFO in 'deeppavlov.core.models.tf_model'['tf_model'] at line 51: [loading model from /content/my_bot/model]\n"
          ],
          "name": "stderr"
        },
        {
          "output_type": "stream",
          "text": [
            "INFO:tensorflow:Restoring parameters from /content/my_bot/model\n"
          ],
          "name": "stdout"
        }
      ]
    },
    {
      "cell_type": "markdown",
      "metadata": {
        "id": "fZePfSwDc6cJ"
      },
      "source": [
        "Calculating accuracy of the model"
      ]
    },
    {
      "cell_type": "code",
      "metadata": {
        "id": "dcx_D1HAZwjM",
        "colab": {
          "base_uri": "https://localhost:8080/",
          "height": 343
        },
        "outputId": "d6c76511-17d7-49d3-b7bf-2bb605b155f9"
      },
      "source": [
        "from deeppavlov import evaluate_model\n",
        "\n",
        "evaluate_model(gobot_config);"
      ],
      "execution_count": null,
      "outputs": [
        {
          "output_type": "stream",
          "text": [
            "2020-05-17 04:32:59.981 INFO in 'deeppavlov.dataset_readers.dstc2_reader'['dstc2_reader'] at line 290: [loading dialogs from /content/my_data/simple-dstc2-trn.json]\n",
            "2020-05-17 04:32:59.994 INFO in 'deeppavlov.dataset_readers.dstc2_reader'['dstc2_reader'] at line 290: [loading dialogs from /content/my_data/simple-dstc2-val.json]\n",
            "2020-05-17 04:33:00.476 INFO in 'deeppavlov.dataset_readers.dstc2_reader'['dstc2_reader'] at line 290: [loading dialogs from /content/my_data/simple-dstc2-tst.json]\n",
            "2020-05-17 04:33:00.542 INFO in 'deeppavlov.dataset_readers.dstc2_reader'['dstc2_reader'] at line 282: There are 479 samples in train split.\n",
            "2020-05-17 04:33:00.543 INFO in 'deeppavlov.dataset_readers.dstc2_reader'['dstc2_reader'] at line 283: There are 6231 samples in valid split.\n",
            "2020-05-17 04:33:00.544 INFO in 'deeppavlov.dataset_readers.dstc2_reader'['dstc2_reader'] at line 284: There are 6345 samples in test split.\n",
            "2020-05-17 04:33:00.562 INFO in 'deeppavlov.core.data.simple_vocab'['simple_vocab'] at line 115: [loading vocabulary from /content/my_bot/word.dict]\n",
            "2020-05-17 04:33:00.564 WARNING in 'deeppavlov.core.models.serializable'['serializable'] at line 49: No load path is set for Sqlite3Database in 'infer' mode. Using save path instead\n",
            "2020-05-17 04:33:00.566 INFO in 'deeppavlov.core.data.sqlite_database'['sqlite_database'] at line 66: Loading database from /content/my_bot/db.sqlite.\n",
            "2020-05-17 04:33:01.531 INFO in 'deeppavlov.models.go_bot.network'['network'] at line 164: [loading templates from /content/my_data/simple-dstc2-templates.txt]\n",
            "2020-05-17 04:33:01.533 INFO in 'deeppavlov.models.go_bot.network'['network'] at line 167: 46 templates loaded.\n",
            "2020-05-17 04:33:01.534 INFO in 'deeppavlov.models.go_bot.network'['network'] at line 215: Calculated input size for `GoalOrientedBotNetwork` is 205\n",
            "2020-05-17 04:33:02.367 INFO in 'deeppavlov.models.go_bot.network'['network'] at line 253: [initializing `GoalOrientedBot` from saved]\n",
            "2020-05-17 04:33:02.368 INFO in 'deeppavlov.models.go_bot.network'['network'] at line 717: [loading parameters from /content/my_bot/model.json]\n",
            "2020-05-17 04:33:02.376 INFO in 'deeppavlov.core.models.tf_model'['tf_model'] at line 51: [loading model from /content/my_bot/model]\n"
          ],
          "name": "stderr"
        },
        {
          "output_type": "stream",
          "text": [
            "INFO:tensorflow:Restoring parameters from /content/my_bot/model\n",
            "{\"valid\": {\"eval_examples_count\": 575, \"metrics\": {\"per_item_dialog_accuracy\": 0.4967}, \"time_spent\": \"0:01:49\"}}\n",
            "{\"test\": {\"eval_examples_count\": 576, \"metrics\": {\"per_item_dialog_accuracy\": 0.4883}, \"time_spent\": \"0:01:47\"}}\n"
          ],
          "name": "stdout"
        }
      ]
    },
    {
      "cell_type": "markdown",
      "metadata": {
        "id": "HA4KJz0udGIs"
      },
      "source": [
        "## 4. Interact with Bot"
      ]
    },
    {
      "cell_type": "markdown",
      "metadata": {
        "id": "VBGWUvArdDRg"
      },
      "source": [
        "Intializing the bot"
      ]
    },
    {
      "cell_type": "code",
      "metadata": {
        "id": "iVgpFiY2Zy3v",
        "colab": {
          "base_uri": "https://localhost:8080/",
          "height": 207
        },
        "outputId": "e9851a2c-83cd-4fba-927f-21cabd60cd36"
      },
      "source": [
        "from deeppavlov import build_model\n",
        "\n",
        "bot = build_model(gobot_config)"
      ],
      "execution_count": null,
      "outputs": [
        {
          "output_type": "stream",
          "text": [
            "2020-05-17 04:36:37.615 INFO in 'deeppavlov.core.data.simple_vocab'['simple_vocab'] at line 115: [loading vocabulary from /content/my_bot/word.dict]\n",
            "2020-05-17 04:36:37.618 WARNING in 'deeppavlov.core.models.serializable'['serializable'] at line 49: No load path is set for Sqlite3Database in 'infer' mode. Using save path instead\n",
            "2020-05-17 04:36:37.621 INFO in 'deeppavlov.core.data.sqlite_database'['sqlite_database'] at line 66: Loading database from /content/my_bot/db.sqlite.\n",
            "2020-05-17 04:36:38.167 INFO in 'deeppavlov.models.go_bot.network'['network'] at line 164: [loading templates from /content/my_data/simple-dstc2-templates.txt]\n",
            "2020-05-17 04:36:38.169 INFO in 'deeppavlov.models.go_bot.network'['network'] at line 167: 46 templates loaded.\n",
            "2020-05-17 04:36:38.170 INFO in 'deeppavlov.models.go_bot.network'['network'] at line 215: Calculated input size for `GoalOrientedBotNetwork` is 205\n",
            "2020-05-17 04:36:39.49 INFO in 'deeppavlov.models.go_bot.network'['network'] at line 253: [initializing `GoalOrientedBot` from saved]\n",
            "2020-05-17 04:36:39.51 INFO in 'deeppavlov.models.go_bot.network'['network'] at line 717: [loading parameters from /content/my_bot/model.json]\n",
            "2020-05-17 04:36:39.61 INFO in 'deeppavlov.core.models.tf_model'['tf_model'] at line 51: [loading model from /content/my_bot/model]\n"
          ],
          "name": "stderr"
        },
        {
          "output_type": "stream",
          "text": [
            "INFO:tensorflow:Restoring parameters from /content/my_bot/model\n"
          ],
          "name": "stdout"
        }
      ]
    },
    {
      "cell_type": "markdown",
      "metadata": {
        "id": "vxcqztDstpQN"
      },
      "source": [
        "Interacting with the bot"
      ]
    },
    {
      "cell_type": "code",
      "metadata": {
        "id": "YqSNQ0nxoGlZ"
      },
      "source": [
        "bot.reset()"
      ],
      "execution_count": null,
      "outputs": []
    },
    {
      "cell_type": "code",
      "metadata": {
        "id": "FufQ6wcXoYE0",
        "colab": {
          "base_uri": "https://localhost:8080/",
          "height": 34
        },
        "outputId": "9fe6e284-8980-4e8c-be3e-934d0e32696b"
      },
      "source": [
        "bot(['hi, i want to eat, can you suggest a place to go?'])"
      ],
      "execution_count": null,
      "outputs": [
        {
          "output_type": "execute_result",
          "data": {
            "text/plain": [
              "['Hello, welcome to the Cambridge restaurant system. You can ask for restaurants by area, price range or food type. How may I help you?']"
            ]
          },
          "metadata": {
            "tags": []
          },
          "execution_count": 302
        }
      ]
    },
    {
      "cell_type": "code",
      "metadata": {
        "id": "VFXxIHj8oZpn",
        "colab": {
          "base_uri": "https://localhost:8080/",
          "height": 34
        },
        "outputId": "22c3ddc3-8032-4e88-c3c7-c319dfe51394"
      },
      "source": [
        "bot(['Indian food'])"
      ],
      "execution_count": null,
      "outputs": [
        {
          "output_type": "execute_result",
          "data": {
            "text/plain": [
              "['What kind of food would you like?']"
            ]
          },
          "metadata": {
            "tags": []
          },
          "execution_count": 303
        }
      ]
    },
    {
      "cell_type": "code",
      "metadata": {
        "id": "ODpYJufYohGY",
        "colab": {
          "base_uri": "https://localhost:8080/",
          "height": 51
        },
        "outputId": "470238ac-3be9-4d13-badb-327f4b488571"
      },
      "source": [
        "bot(['give me the address'])"
      ],
      "execution_count": null,
      "outputs": [
        {
          "output_type": "stream",
          "text": [
            "2020-05-17 04:36:39.414 INFO in 'deeppavlov.models.go_bot.tracker'['tracker'] at line 210: Made api_call with {'food': 'indian'}, got 22 results.\n"
          ],
          "name": "stderr"
        },
        {
          "output_type": "execute_result",
          "data": {
            "text/plain": [
              "['The nirala serves indian food.']"
            ]
          },
          "metadata": {
            "tags": []
          },
          "execution_count": 304
        }
      ]
    },
    {
      "cell_type": "code",
      "metadata": {
        "id": "WhXi4wMZorH_",
        "colab": {
          "base_uri": "https://localhost:8080/",
          "height": 34
        },
        "outputId": "8ffd8227-05f8-4e62-b50c-02b659a09147"
      },
      "source": [
        "bot(['Give me the phone number'])"
      ],
      "execution_count": null,
      "outputs": [
        {
          "output_type": "execute_result",
          "data": {
            "text/plain": [
              "['The phone number of the nirala is 01223 360966.']"
            ]
          },
          "metadata": {
            "tags": []
          },
          "execution_count": 305
        }
      ]
    },
    {
      "cell_type": "markdown",
      "metadata": {
        "id": "imBMi8O9xOmx"
      },
      "source": [
        "### EXTENSION"
      ]
    },
    {
      "cell_type": "markdown",
      "metadata": {
        "id": "sNOsj0nCt0Zj"
      },
      "source": [
        "In this example the user waqnts to eat a burger.The response from the chatbot is vague and does not relate with the input of the user as it cannot find the slot value for 'food'.As there is no value of any slot_type corresponding to any of the words in the example the chatbot ouputs a default value to the user. "
      ]
    },
    {
      "cell_type": "code",
      "metadata": {
        "id": "pKCK1221ovpI"
      },
      "source": [
        "bot.reset()"
      ],
      "execution_count": null,
      "outputs": []
    },
    {
      "cell_type": "code",
      "metadata": {
        "id": "qER7kVg5Z3Ho",
        "colab": {
          "base_uri": "https://localhost:8080/",
          "height": 34
        },
        "outputId": "a1029bd6-216d-44d4-9e68-61d7ae1e5c02"
      },
      "source": [
        "bot(['hi, i want to eat, can you suggest a place to go?'])"
      ],
      "execution_count": null,
      "outputs": [
        {
          "output_type": "execute_result",
          "data": {
            "text/plain": [
              "['Hello, welcome to the Cambridge restaurant system. You can ask for restaurants by area, price range or food type. How may I help you?']"
            ]
          },
          "metadata": {
            "tags": []
          },
          "execution_count": 307
        }
      ]
    },
    {
      "cell_type": "code",
      "metadata": {
        "id": "BuOvUn9KZ5Xf",
        "colab": {
          "base_uri": "https://localhost:8080/",
          "height": 34
        },
        "outputId": "5239da6d-2a7c-4247-97b8-f827591d7979"
      },
      "source": [
        "bot(['i want to eat a burger'])"
      ],
      "execution_count": null,
      "outputs": [
        {
          "output_type": "execute_result",
          "data": {
            "text/plain": [
              "['What kind of food would you like?']"
            ]
          },
          "metadata": {
            "tags": []
          },
          "execution_count": 308
        }
      ]
    },
    {
      "cell_type": "code",
      "metadata": {
        "id": "z-ePar4goM_g",
        "colab": {
          "base_uri": "https://localhost:8080/",
          "height": 34
        },
        "outputId": "8dd6210a-339c-4c68-cf0b-88e7c61026c6"
      },
      "source": [
        "bot(['i want to eat a chicken burger'])"
      ],
      "execution_count": null,
      "outputs": [
        {
          "output_type": "execute_result",
          "data": {
            "text/plain": [
              "['What kind of food would you like?']"
            ]
          },
          "metadata": {
            "tags": []
          },
          "execution_count": 309
        }
      ]
    },
    {
      "cell_type": "markdown",
      "metadata": {
        "id": "mop7f9T7ufY8"
      },
      "source": [
        "In this example, two type of food types are given as input but the chatbot only has the first value in the order of utterence as the value of 'food'.It does not take into consideration indian and suggests restaurents based on slot_type 'food' : chinese"
      ]
    },
    {
      "cell_type": "code",
      "metadata": {
        "id": "_GewfztTo8ES"
      },
      "source": [
        "bot.reset()"
      ],
      "execution_count": null,
      "outputs": []
    },
    {
      "cell_type": "code",
      "metadata": {
        "id": "uwgUQr25o9-S",
        "colab": {
          "base_uri": "https://localhost:8080/",
          "height": 34
        },
        "outputId": "b699c800-a8e1-4a7b-e93a-951c1374be4e"
      },
      "source": [
        "bot(['hi, i want to eat, can you suggest a place to go?'])"
      ],
      "execution_count": null,
      "outputs": [
        {
          "output_type": "execute_result",
          "data": {
            "text/plain": [
              "['Hello, welcome to the Cambridge restaurant system. You can ask for restaurants by area, price range or food type. How may I help you?']"
            ]
          },
          "metadata": {
            "tags": []
          },
          "execution_count": 311
        }
      ]
    },
    {
      "cell_type": "code",
      "metadata": {
        "id": "W9AbLT9kZ7YV",
        "colab": {
          "base_uri": "https://localhost:8080/",
          "height": 34
        },
        "outputId": "afde207c-b4f6-4d10-f88d-911fab4c3683"
      },
      "source": [
        "bot(['chinese and Indain food'])"
      ],
      "execution_count": null,
      "outputs": [
        {
          "output_type": "execute_result",
          "data": {
            "text/plain": [
              "['What kind of food would you like?']"
            ]
          },
          "metadata": {
            "tags": []
          },
          "execution_count": 312
        }
      ]
    },
    {
      "cell_type": "markdown",
      "metadata": {
        "id": "UQ8Jz7rIu5wN"
      },
      "source": [
        "In this example, the user wants to eat vegan food.But the database does not contain 'vegetarian' as any of its slot values.Therefore the chatbot returns an empty template."
      ]
    },
    {
      "cell_type": "code",
      "metadata": {
        "id": "7jY_iQ49pPEM"
      },
      "source": [
        "bot.reset()"
      ],
      "execution_count": null,
      "outputs": []
    },
    {
      "cell_type": "code",
      "metadata": {
        "id": "zmupfMP4pQ9k",
        "colab": {
          "base_uri": "https://localhost:8080/",
          "height": 34
        },
        "outputId": "a385fadf-1620-4c1c-bb76-1694711edbad"
      },
      "source": [
        "bot(['hi, i want to eat, can you suggest a place to go?'])"
      ],
      "execution_count": null,
      "outputs": [
        {
          "output_type": "execute_result",
          "data": {
            "text/plain": [
              "['Hello, welcome to the Cambridge restaurant system. You can ask for restaurants by area, price range or food type. How may I help you?']"
            ]
          },
          "metadata": {
            "tags": []
          },
          "execution_count": 314
        }
      ]
    },
    {
      "cell_type": "code",
      "metadata": {
        "id": "ydJMKjqKpS5e",
        "colab": {
          "base_uri": "https://localhost:8080/",
          "height": 34
        },
        "outputId": "25f489bd-4154-429d-eced-14b5428d3e72"
      },
      "source": [
        "bot(['I want to eat vegetarian food'])"
      ],
      "execution_count": null,
      "outputs": [
        {
          "output_type": "execute_result",
          "data": {
            "text/plain": [
              "['What kind of food would you like?']"
            ]
          },
          "metadata": {
            "tags": []
          },
          "execution_count": 315
        }
      ]
    },
    {
      "cell_type": "code",
      "metadata": {
        "id": "5K6Vtqxxpax8",
        "colab": {
          "base_uri": "https://localhost:8080/",
          "height": 51
        },
        "outputId": "00d4536f-38de-4f8f-945b-d7d90e052667"
      },
      "source": [
        "bot(['I want to eat non-vegetarian food'])"
      ],
      "execution_count": null,
      "outputs": [
        {
          "output_type": "stream",
          "text": [
            "2020-05-17 04:36:39.880 INFO in 'deeppavlov.models.go_bot.tracker'['tracker'] at line 210: Made api_call with {'food': 'vegetarian'}, got 0 results.\n"
          ],
          "name": "stderr"
        },
        {
          "output_type": "execute_result",
          "data": {
            "text/plain": [
              "['I am sorry but there is no vegetarian restaurant that matches your request.']"
            ]
          },
          "metadata": {
            "tags": []
          },
          "execution_count": 316
        }
      ]
    },
    {
      "cell_type": "markdown",
      "metadata": {
        "id": "XM8mmsFCvTcC"
      },
      "source": [
        "In this example, the user asks if the restaurent has vegan options.The chatbot is picks up the words options and provides the address of the restaurent rather than answering the question of the user."
      ]
    },
    {
      "cell_type": "code",
      "metadata": {
        "id": "TT53qm4Mph5V"
      },
      "source": [
        "bot.reset()"
      ],
      "execution_count": null,
      "outputs": []
    },
    {
      "cell_type": "code",
      "metadata": {
        "id": "HPcZU1eJpkHP",
        "colab": {
          "base_uri": "https://localhost:8080/",
          "height": 34
        },
        "outputId": "536ab7de-6f5b-4e0b-c7fb-55260eeb118d"
      },
      "source": [
        "bot(['hi, i want to eat, can you suggest a place to go?'])"
      ],
      "execution_count": null,
      "outputs": [
        {
          "output_type": "execute_result",
          "data": {
            "text/plain": [
              "['Hello, welcome to the Cambridge restaurant system. You can ask for restaurants by area, price range or food type. How may I help you?']"
            ]
          },
          "metadata": {
            "tags": []
          },
          "execution_count": 318
        }
      ]
    },
    {
      "cell_type": "code",
      "metadata": {
        "id": "C4NlX0JpplxD",
        "colab": {
          "base_uri": "https://localhost:8080/",
          "height": 34
        },
        "outputId": "7e483910-1c74-471e-f111-75595851aece"
      },
      "source": [
        "bot(['I want to eat in a costly restaurent'])"
      ],
      "execution_count": null,
      "outputs": [
        {
          "output_type": "execute_result",
          "data": {
            "text/plain": [
              "['What kind of food would you like?']"
            ]
          },
          "metadata": {
            "tags": []
          },
          "execution_count": 319
        }
      ]
    },
    {
      "cell_type": "code",
      "metadata": {
        "id": "qtqOd-HDpwqJ",
        "colab": {
          "base_uri": "https://localhost:8080/",
          "height": 51
        },
        "outputId": "fb78e00d-73f8-441b-bf8b-78cf5eb6de2e"
      },
      "source": [
        "bot(['I like to have meaxican food'])"
      ],
      "execution_count": null,
      "outputs": [
        {
          "output_type": "stream",
          "text": [
            "2020-05-17 04:36:40.56 INFO in 'deeppavlov.models.go_bot.tracker'['tracker'] at line 210: Made api_call with {'food': 'mexican'}, got 1 results.\n"
          ],
          "name": "stderr"
        },
        {
          "output_type": "execute_result",
          "data": {
            "text/plain": [
              "['Chiquito restaurant bar serves mexican food.']"
            ]
          },
          "metadata": {
            "tags": []
          },
          "execution_count": 320
        }
      ]
    },
    {
      "cell_type": "code",
      "metadata": {
        "id": "WSrfKDe6p5oT",
        "colab": {
          "base_uri": "https://localhost:8080/",
          "height": 34
        },
        "outputId": "f29b62ae-6ec6-475a-aa74-061b37f26045"
      },
      "source": [
        "bot(['Does it have vegan options'])"
      ],
      "execution_count": null,
      "outputs": [
        {
          "output_type": "execute_result",
          "data": {
            "text/plain": [
              "['You are looking for a restaurant is that right?']"
            ]
          },
          "metadata": {
            "tags": []
          },
          "execution_count": 321
        }
      ]
    },
    {
      "cell_type": "markdown",
      "metadata": {
        "id": "8NI8cDrAv2lg"
      },
      "source": [
        "In this example, the user directly asks the address of the restaurent.The NLU picks up the word address but it does not have the values of other attributes like ' pricerange' , 'food', 'area' therefore it returns an empty template to the user."
      ]
    },
    {
      "cell_type": "code",
      "metadata": {
        "id": "swon0KtfqPCf"
      },
      "source": [
        "bot.reset()"
      ],
      "execution_count": null,
      "outputs": []
    },
    {
      "cell_type": "code",
      "metadata": {
        "id": "x6OYOjvDqe0H",
        "colab": {
          "base_uri": "https://localhost:8080/",
          "height": 34
        },
        "outputId": "5436db54-e22b-4d1d-b677-0bac518469cf"
      },
      "source": [
        "bot(['hi, i want to eat, can you suggest a place to go?'])"
      ],
      "execution_count": null,
      "outputs": [
        {
          "output_type": "execute_result",
          "data": {
            "text/plain": [
              "['Hello, welcome to the Cambridge restaurant system. You can ask for restaurants by area, price range or food type. How may I help you?']"
            ]
          },
          "metadata": {
            "tags": []
          },
          "execution_count": 323
        }
      ]
    },
    {
      "cell_type": "code",
      "metadata": {
        "id": "8Y4Byic6Z9X9",
        "colab": {
          "base_uri": "https://localhost:8080/",
          "height": 34
        },
        "outputId": "cc20604c-fc4b-4ea0-a1bf-3c8e5e61536a"
      },
      "source": [
        "bot(['Can you get the address of chiquito restaurent'])"
      ],
      "execution_count": null,
      "outputs": [
        {
          "output_type": "execute_result",
          "data": {
            "text/plain": [
              "['Sure, #name is on #addr.']"
            ]
          },
          "metadata": {
            "tags": []
          },
          "execution_count": 324
        }
      ]
    },
    {
      "cell_type": "code",
      "metadata": {
        "id": "xGSQXpk4Z98x",
        "colab": {
          "base_uri": "https://localhost:8080/",
          "height": 34
        },
        "outputId": "949584ae-7c0e-4a01-8380-9f8e53163656"
      },
      "source": [
        "bot(['i want their phone number too'])"
      ],
      "execution_count": null,
      "outputs": [
        {
          "output_type": "execute_result",
          "data": {
            "text/plain": [
              "['The phone number of #name is #phone.']"
            ]
          },
          "metadata": {
            "tags": []
          },
          "execution_count": 325
        }
      ]
    },
    {
      "cell_type": "markdown",
      "metadata": {
        "id": "qYsoflspwMFr"
      },
      "source": [
        "In this example, The user wants to eat desserts.As there is no value corresponding to any slot values in the user utterance,the chatbot by default asks the user about the type of food."
      ]
    },
    {
      "cell_type": "code",
      "metadata": {
        "id": "pVpDxJg_qk_6"
      },
      "source": [
        "bot.reset()"
      ],
      "execution_count": null,
      "outputs": []
    },
    {
      "cell_type": "code",
      "metadata": {
        "id": "VLeu7KjAqogA",
        "colab": {
          "base_uri": "https://localhost:8080/",
          "height": 34
        },
        "outputId": "fac07363-91dc-43fa-dea0-9d3bd79eea76"
      },
      "source": [
        "bot(['hi, i want to eat, can you suggest a place to go?'])"
      ],
      "execution_count": null,
      "outputs": [
        {
          "output_type": "execute_result",
          "data": {
            "text/plain": [
              "['Hello, welcome to the Cambridge restaurant system. You can ask for restaurants by area, price range or food type. How may I help you?']"
            ]
          },
          "metadata": {
            "tags": []
          },
          "execution_count": 327
        }
      ]
    },
    {
      "cell_type": "code",
      "metadata": {
        "id": "_kNBdOsbq1Le",
        "colab": {
          "base_uri": "https://localhost:8080/",
          "height": 34
        },
        "outputId": "81e38da7-f944-4513-8079-7b2924c7cf5b"
      },
      "source": [
        "bot(['I like desserts'])"
      ],
      "execution_count": null,
      "outputs": [
        {
          "output_type": "execute_result",
          "data": {
            "text/plain": [
              "['What kind of food would you like?']"
            ]
          },
          "metadata": {
            "tags": []
          },
          "execution_count": 328
        }
      ]
    },
    {
      "cell_type": "code",
      "metadata": {
        "id": "yuLIEg7cq_WH"
      },
      "source": [
        "bot.reset()"
      ],
      "execution_count": null,
      "outputs": []
    },
    {
      "cell_type": "markdown",
      "metadata": {
        "id": "K2aPRkuswhN7"
      },
      "source": [
        "In this example, the chatbot performs well with identifying all three slot_values but when the user requests other options the chatbot gives the user address for the restaurent suggested rather than providing him other options."
      ]
    },
    {
      "cell_type": "code",
      "metadata": {
        "id": "9Tv0qZzaZ_xn",
        "colab": {
          "base_uri": "https://localhost:8080/",
          "height": 34
        },
        "outputId": "d7d468fb-76f5-4f89-aa19-79bc7cdc42ad"
      },
      "source": [
        "bot(['hi, i want to eat, can you suggest a place to go?'])"
      ],
      "execution_count": null,
      "outputs": [
        {
          "output_type": "execute_result",
          "data": {
            "text/plain": [
              "['Hello, welcome to the Cambridge restaurant system. You can ask for restaurants by area, price range or food type. How may I help you?']"
            ]
          },
          "metadata": {
            "tags": []
          },
          "execution_count": 330
        }
      ]
    },
    {
      "cell_type": "code",
      "metadata": {
        "id": "wqlVRxTirHJz",
        "colab": {
          "base_uri": "https://localhost:8080/",
          "height": 71
        },
        "outputId": "33468095-b82d-4707-ce9b-89f677b608c7"
      },
      "source": [
        "bot(['I want to eat Indian food in the center of the town.I prefer cheap options.'])"
      ],
      "execution_count": null,
      "outputs": [
        {
          "output_type": "stream",
          "text": [
            "2020-05-17 04:36:40.506 INFO in 'deeppavlov.models.go_bot.tracker'['tracker'] at line 210: Made api_call with {'food': 'indian', 'pricerange': 'cheap', 'area': 'centre'}, got 3 results.\n"
          ],
          "name": "stderr"
        },
        {
          "output_type": "execute_result",
          "data": {
            "text/plain": [
              "['Mahal of cambridge serves indian food.']"
            ]
          },
          "metadata": {
            "tags": []
          },
          "execution_count": 331
        }
      ]
    },
    {
      "cell_type": "code",
      "metadata": {
        "id": "eBfs1yI8rUsG",
        "colab": {
          "base_uri": "https://localhost:8080/",
          "height": 34
        },
        "outputId": "c62de773-c798-47fe-9db0-3b20d8c30147"
      },
      "source": [
        "bot(['Any other options?'])"
      ],
      "execution_count": null,
      "outputs": [
        {
          "output_type": "execute_result",
          "data": {
            "text/plain": [
              "['You are looking for a restaurant is that right?']"
            ]
          },
          "metadata": {
            "tags": []
          },
          "execution_count": 332
        }
      ]
    },
    {
      "cell_type": "markdown",
      "metadata": {
        "id": "7CDxbh0gw1D7"
      },
      "source": [
        "In this example,the user changes his decision on the area,but the chatbot's NLU misinterprets it and outputs the address of the restaurent suggested earlier. "
      ]
    },
    {
      "cell_type": "code",
      "metadata": {
        "id": "K7VMvZLuaB3E"
      },
      "source": [
        "bot.reset()"
      ],
      "execution_count": null,
      "outputs": []
    },
    {
      "cell_type": "code",
      "metadata": {
        "id": "3DDmZ6kQaFvF",
        "colab": {
          "base_uri": "https://localhost:8080/",
          "height": 34
        },
        "outputId": "53260863-4e17-469d-c32b-0167d9686b3e"
      },
      "source": [
        "bot(['hi, i want to eat, can you suggest a place to go?'])"
      ],
      "execution_count": null,
      "outputs": [
        {
          "output_type": "execute_result",
          "data": {
            "text/plain": [
              "['Hello, welcome to the Cambridge restaurant system. You can ask for restaurants by area, price range or food type. How may I help you?']"
            ]
          },
          "metadata": {
            "tags": []
          },
          "execution_count": 334
        }
      ]
    },
    {
      "cell_type": "code",
      "metadata": {
        "id": "sZ85E2hFsNry",
        "colab": {
          "base_uri": "https://localhost:8080/",
          "height": 51
        },
        "outputId": "4a7ab269-76d2-4a90-942f-8b754958ad3b"
      },
      "source": [
        "bot(['I would like to go restaurent in north of the town'])"
      ],
      "execution_count": null,
      "outputs": [
        {
          "output_type": "stream",
          "text": [
            "2020-05-17 04:36:40.692 INFO in 'deeppavlov.models.go_bot.tracker'['tracker'] at line 210: Made api_call with {'area': 'north'}, got 11 results.\n"
          ],
          "name": "stderr"
        },
        {
          "output_type": "execute_result",
          "data": {
            "text/plain": [
              "['Restaurant two two serves french food.']"
            ]
          },
          "metadata": {
            "tags": []
          },
          "execution_count": 335
        }
      ]
    },
    {
      "cell_type": "code",
      "metadata": {
        "id": "ylPxdOgUsbS9",
        "colab": {
          "base_uri": "https://localhost:8080/",
          "height": 34
        },
        "outputId": "8912f7d5-f6ac-4ae5-a55d-2a2bbd21b456"
      },
      "source": [
        "bot(['ohh then suggest me restaurents in south then'])"
      ],
      "execution_count": null,
      "outputs": [
        {
          "output_type": "execute_result",
          "data": {
            "text/plain": [
              "['Sure, restaurant two two is on 22 chesterton road chesterton.']"
            ]
          },
          "metadata": {
            "tags": []
          },
          "execution_count": 336
        }
      ]
    },
    {
      "cell_type": "markdown",
      "metadata": {
        "id": "2L6v4fiOxMKF"
      },
      "source": [
        "In this example the user mentions two pricerange,but the chatbot only picks up the first realted slot_value from the utterence leaving the second slot_value. This results in the chatbot suggesting only cheap options rather than suggesting both cheap and moderate options."
      ]
    },
    {
      "cell_type": "code",
      "metadata": {
        "id": "9bp3Hnyqn2Lk"
      },
      "source": [
        "bot.reset()"
      ],
      "execution_count": null,
      "outputs": []
    },
    {
      "cell_type": "code",
      "metadata": {
        "id": "DIi5bEMpn5DK",
        "colab": {
          "base_uri": "https://localhost:8080/",
          "height": 34
        },
        "outputId": "a1022610-e762-486b-d557-5399267ed3ee"
      },
      "source": [
        "bot(['hi, i want to eat, can you suggest a place to go?'])"
      ],
      "execution_count": null,
      "outputs": [
        {
          "output_type": "execute_result",
          "data": {
            "text/plain": [
              "['Hello, welcome to the Cambridge restaurant system. You can ask for restaurants by area, price range or food type. How may I help you?']"
            ]
          },
          "metadata": {
            "tags": []
          },
          "execution_count": 338
        }
      ]
    },
    {
      "cell_type": "code",
      "metadata": {
        "id": "VrN3ja0Tn-MP",
        "colab": {
          "base_uri": "https://localhost:8080/",
          "height": 34
        },
        "outputId": "42fa4613-4aeb-4c85-c54a-e7c31360bd88"
      },
      "source": [
        "bot(['I can afford cheap and moderate food'])"
      ],
      "execution_count": null,
      "outputs": [
        {
          "output_type": "execute_result",
          "data": {
            "text/plain": [
              "['What part of town do you have in mind?']"
            ]
          },
          "metadata": {
            "tags": []
          },
          "execution_count": 339
        }
      ]
    },
    {
      "cell_type": "code",
      "metadata": {
        "id": "z2nOjXqaruaE",
        "colab": {
          "base_uri": "https://localhost:8080/",
          "height": 71
        },
        "outputId": "56bf7f92-c42f-4eed-a0b9-541058087c95"
      },
      "source": [
        "bot(['indian'])"
      ],
      "execution_count": null,
      "outputs": [
        {
          "output_type": "stream",
          "text": [
            "2020-05-17 04:36:40.899 INFO in 'deeppavlov.models.go_bot.tracker'['tracker'] at line 210: Made api_call with {'pricerange': 'cheap', 'food': 'indian'}, got 4 results.\n"
          ],
          "name": "stderr"
        },
        {
          "output_type": "execute_result",
          "data": {
            "text/plain": [
              "['Royal spice serves indian food.']"
            ]
          },
          "metadata": {
            "tags": []
          },
          "execution_count": 340
        }
      ]
    },
    {
      "cell_type": "markdown",
      "metadata": {
        "id": "YX0J22i8x2eA"
      },
      "source": [
        "In this example,the chatbot cannot determine the slot_value for any of the slot_types.Therefore it outputs the default response."
      ]
    },
    {
      "cell_type": "code",
      "metadata": {
        "id": "D1s5j02usMct"
      },
      "source": [
        "bot.reset()"
      ],
      "execution_count": null,
      "outputs": []
    },
    {
      "cell_type": "code",
      "metadata": {
        "id": "d2QdX5JysqNs",
        "colab": {
          "base_uri": "https://localhost:8080/",
          "height": 34
        },
        "outputId": "c6faa732-5fc8-48b1-d930-4648d024f5f1"
      },
      "source": [
        "bot(['hi, i want to eat, can you suggest a place to go?'])"
      ],
      "execution_count": null,
      "outputs": [
        {
          "output_type": "execute_result",
          "data": {
            "text/plain": [
              "['Hello, welcome to the Cambridge restaurant system. You can ask for restaurants by area, price range or food type. How may I help you?']"
            ]
          },
          "metadata": {
            "tags": []
          },
          "execution_count": 342
        }
      ]
    },
    {
      "cell_type": "code",
      "metadata": {
        "id": "m-CrW2OFsugp",
        "colab": {
          "base_uri": "https://localhost:8080/",
          "height": 34
        },
        "outputId": "0de8db19-309b-4e9f-dec4-d73060cc6e14"
      },
      "source": [
        "bot(['Continental cuisine'])"
      ],
      "execution_count": null,
      "outputs": [
        {
          "output_type": "execute_result",
          "data": {
            "text/plain": [
              "['What part of town do you have in mind?']"
            ]
          },
          "metadata": {
            "tags": []
          },
          "execution_count": 343
        }
      ]
    },
    {
      "cell_type": "code",
      "metadata": {
        "id": "x0L0YDxSs5D6",
        "colab": {
          "base_uri": "https://localhost:8080/",
          "height": 51
        },
        "outputId": "1345c0aa-4ac8-4023-8bd5-bf183ef984db"
      },
      "source": [
        "bot(['south would be great'])"
      ],
      "execution_count": null,
      "outputs": [
        {
          "output_type": "stream",
          "text": [
            "2020-05-17 04:36:41.38 INFO in 'deeppavlov.models.go_bot.tracker'['tracker'] at line 210: Made api_call with {'area': 'south'}, got 9 results.\n"
          ],
          "name": "stderr"
        },
        {
          "output_type": "execute_result",
          "data": {
            "text/plain": [
              "['Pizza hut cherry hinton is a nice place in the south of town serving tasty italian food.']"
            ]
          },
          "metadata": {
            "tags": []
          },
          "execution_count": 344
        }
      ]
    },
    {
      "cell_type": "code",
      "metadata": {
        "id": "Hkp0XKyIyNEb"
      },
      "source": [
        "bot.reset()"
      ],
      "execution_count": null,
      "outputs": []
    },
    {
      "cell_type": "markdown",
      "metadata": {
        "id": "c7JZL3IO7iFi"
      },
      "source": [
        "In this example, the chatbot could not identify the slot_value for any of the attributes."
      ]
    },
    {
      "cell_type": "code",
      "metadata": {
        "id": "v9Pkwh9byOtw",
        "colab": {
          "base_uri": "https://localhost:8080/",
          "height": 34
        },
        "outputId": "df0b5af6-7b54-414e-8a6e-dd5d15cfdd1b"
      },
      "source": [
        "bot(['Hi'])"
      ],
      "execution_count": null,
      "outputs": [
        {
          "output_type": "execute_result",
          "data": {
            "text/plain": [
              "['Hello, welcome to the Cambridge restaurant system. You can ask for restaurants by area, price range or food type. How may I help you?']"
            ]
          },
          "metadata": {
            "tags": []
          },
          "execution_count": 346
        }
      ]
    },
    {
      "cell_type": "code",
      "metadata": {
        "id": "dNjy4_e_yfId",
        "colab": {
          "base_uri": "https://localhost:8080/",
          "height": 34
        },
        "outputId": "fd4849be-aaef-4ea9-8be6-b3ca6b71c1ba"
      },
      "source": [
        "bot(['bye'])"
      ],
      "execution_count": null,
      "outputs": [
        {
          "output_type": "execute_result",
          "data": {
            "text/plain": [
              "['What part of town do you have in mind?']"
            ]
          },
          "metadata": {
            "tags": []
          },
          "execution_count": 347
        }
      ]
    },
    {
      "cell_type": "code",
      "metadata": {
        "id": "Dr26YGI7yhAg",
        "colab": {
          "base_uri": "https://localhost:8080/",
          "height": 34
        },
        "outputId": "06b66402-bd7e-45a9-bf67-7541e3cf2014"
      },
      "source": [
        "bot(['bye'])"
      ],
      "execution_count": null,
      "outputs": [
        {
          "output_type": "execute_result",
          "data": {
            "text/plain": [
              "['What part of town do you have in mind?']"
            ]
          },
          "metadata": {
            "tags": []
          },
          "execution_count": 348
        }
      ]
    }
  ]
}